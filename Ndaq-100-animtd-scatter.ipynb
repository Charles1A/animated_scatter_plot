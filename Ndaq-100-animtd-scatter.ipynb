{
  "cells": [
    {
      "cell_type": "markdown",
      "metadata": {
        "id": "view-in-github",
        "colab_type": "text"
      },
      "source": [
        "<a href=\"https://colab.research.google.com/github/Charles1A/animated_scatter_plot/blob/main/Ndaq-100-animtd-scatter.ipynb\" target=\"_parent\"><img src=\"https://colab.research.google.com/assets/colab-badge.svg\" alt=\"Open In Colab\"/></a>"
      ]
    },
    {
      "cell_type": "code",
      "execution_count": 1,
      "metadata": {
        "id": "6XT2eutsFciP"
      },
      "outputs": [],
      "source": [
        "import yfinance as yf\n",
        "\n",
        "import scipy\n",
        "import pandas as pd\n",
        "import numpy as np\n",
        "import plotly.express as px\n",
        "from datetime import datetime, timedelta, date\n",
        "import time"
      ]
    },
    {
      "cell_type": "code",
      "execution_count": 14,
      "metadata": {
        "id": "fd6RgOdiFciQ",
        "outputId": "3a52bdc5-05bd-4c08-812c-3bc5b4100a8b",
        "colab": {
          "base_uri": "https://localhost:8080/"
        }
      },
      "outputs": [
        {
          "output_type": "stream",
          "name": "stdout",
          "text": [
            "pandas version: 2.2.2\n",
            "numpy version: 1.26.4\n",
            "yfinance version: 0.2.49\n",
            "\n",
            "plotly version: \n",
            "Version: 5.24.1\n"
          ]
        }
      ],
      "source": [
        "print(f\"pandas version: {pd.__version__}\\n\"\\\n",
        "f\"numpy version: {np.__version__}\\n\"\\\n",
        "f\"yfinance version: {yf.__version__}\\n\")\n",
        "\n",
        "print(\"plotly version: \")\n",
        "!pip show plotly | grep Version"
      ]
    },
    {
      "cell_type": "code",
      "execution_count": null,
      "metadata": {
        "id": "GdbQRbJyFciR",
        "outputId": "6d458968-aa77-4ff5-a47c-e2ef14cd618f"
      },
      "outputs": [
        {
          "data": {
            "text/html": [
              "<div>\n",
              "<style scoped>\n",
              "    .dataframe tbody tr th:only-of-type {\n",
              "        vertical-align: middle;\n",
              "    }\n",
              "\n",
              "    .dataframe tbody tr th {\n",
              "        vertical-align: top;\n",
              "    }\n",
              "\n",
              "    .dataframe thead th {\n",
              "        text-align: right;\n",
              "    }\n",
              "</style>\n",
              "<table border=\"1\" class=\"dataframe\">\n",
              "  <thead>\n",
              "    <tr style=\"text-align: right;\">\n",
              "      <th></th>\n",
              "      <th>SYMBOL</th>\n",
              "      <th>NAME</th>\n",
              "      <th>PRICE</th>\n",
              "      <th>CHANGE</th>\n",
              "      <th>%CHANGE</th>\n",
              "    </tr>\n",
              "  </thead>\n",
              "  <tbody>\n",
              "    <tr>\n",
              "      <th>0</th>\n",
              "      <td>AMD</td>\n",
              "      <td>Advanced Micro Devices Inc</td>\n",
              "      <td>98.01</td>\n",
              "      <td>0.13</td>\n",
              "      <td>0.13</td>\n",
              "    </tr>\n",
              "    <tr>\n",
              "      <th>1</th>\n",
              "      <td>ADBE</td>\n",
              "      <td>Adobe Inc.</td>\n",
              "      <td>385.37</td>\n",
              "      <td>3.47</td>\n",
              "      <td>0.91</td>\n",
              "    </tr>\n",
              "    <tr>\n",
              "      <th>2</th>\n",
              "      <td>ABNB</td>\n",
              "      <td>Airbnb Inc</td>\n",
              "      <td>124.4</td>\n",
              "      <td>2.12</td>\n",
              "      <td>1.73</td>\n",
              "    </tr>\n",
              "  </tbody>\n",
              "</table>\n",
              "</div>"
            ],
            "text/plain": [
              "  SYMBOL                        NAME   PRICE   CHANGE   %CHANGE \n",
              "0     AMD  Advanced Micro Devices Inc   98.01     0.13      0.13\n",
              "1    ADBE                  Adobe Inc.  385.37     3.47      0.91\n",
              "2    ABNB                  Airbnb Inc   124.4     2.12      1.73"
            ]
          },
          "execution_count": 3,
          "metadata": {},
          "output_type": "execute_result"
        }
      ],
      "source": [
        "# Load the Nasdaq 100 csv:\n",
        "\n",
        "df = pd.read_csv('/Nasdaq-100.csv')\n",
        "df.head(3)"
      ]
    },
    {
      "cell_type": "code",
      "execution_count": null,
      "metadata": {
        "id": "sdsUyo8IFciS"
      },
      "outputs": [],
      "source": [
        "# df.info()"
      ]
    },
    {
      "cell_type": "code",
      "execution_count": null,
      "metadata": {
        "id": "woJurZzQFciS"
      },
      "outputs": [],
      "source": [
        "# df.iloc[: ,0]"
      ]
    },
    {
      "cell_type": "code",
      "execution_count": null,
      "metadata": {
        "id": "Miv5Qj7DFciT",
        "outputId": "05456269-a6d2-4d92-c654-52a367857b9a"
      },
      "outputs": [
        {
          "data": {
            "text/plain": [
              "['AMD', 'ADBE', 'ABNB', 'ALGN', 'AMZN']"
            ]
          },
          "execution_count": 6,
          "metadata": {},
          "output_type": "execute_result"
        }
      ],
      "source": [
        "# Create a list of tickers from the Nasdaq 100 csv:\n",
        "\n",
        "ticker_list = df.iloc[: ,0].to_list()\n",
        "ticker_list[0:5]"
      ]
    },
    {
      "cell_type": "code",
      "execution_count": null,
      "metadata": {
        "id": "OxoNDQyuFciU",
        "outputId": "c43815d0-4164-415c-d974-9ff81e11d066"
      },
      "outputs": [
        {
          "name": "stdout",
          "output_type": "stream",
          "text": [
            "AMD ADBE A\n"
          ]
        }
      ],
      "source": [
        "# Join the tickers into a single string for the yfinance API:\n",
        "\n",
        "ticker_string = ' '.join(ticker_list)\n",
        "print(ticker_string[0:20])"
      ]
    },
    {
      "cell_type": "code",
      "execution_count": null,
      "metadata": {
        "id": "J5NQ3b_KFciU",
        "outputId": "d3b365bd-4855-4bbe-8949-d0187dfe5daf"
      },
      "outputs": [
        {
          "name": "stdout",
          "output_type": "stream",
          "text": [
            "[*********************100%***********************]  101 of 101 completed\n",
            "[*********************100%***********************]  101 of 101 completed\n",
            "[*********************100%***********************]  101 of 101 completed\n"
          ]
        }
      ],
      "source": [
        "def qrtr_func(sdate, edate):\n",
        "\n",
        "    stock_df = yf.download(f'{ticker_string}', # Make call to the yfinance API\n",
        "        start=sdate, end=edate)\n",
        "\n",
        "    time.sleep(4) # 4-second pause between API calls; comment out if making just one call\n",
        "\n",
        "    Adjclose = stock_df.loc[:, 'Adj Close'] # Use adjusted close for computations\n",
        "\n",
        "    Adjclose = Adjclose.rename_axis(index=None, columns=None)\n",
        "\n",
        "    Qreturns = ((Adjclose.iloc[-1, :] - Adjclose.iloc[0, :])/Adjclose.iloc[0, :]).to_frame() # Compute returns for the quarter\n",
        "\n",
        "    returns1d = Adjclose.pct_change() # Compute the 1-day returns for std dev\n",
        "    returns1d.dropna(inplace=True)\n",
        "\n",
        "    Qstd = returns1d.dropna().std().to_frame() # Compute std dev\n",
        "\n",
        "    qrtr_df = pd.concat([Qreturns, Qstd], axis=1) # Concatenate the two dfs\n",
        "    qrtr_df.columns = [\"Pct Returns\", \"Std dev\"]\n",
        "\n",
        "    qrtr_df['Pct Returns'] = qrtr_df['Pct Returns']*100\n",
        "\n",
        "    sdate_ = pd.to_datetime(sdate)\n",
        "\n",
        "    Q = sdate_.to_period('Q')\n",
        "\n",
        "    qrtr_df['quarter'] = Q\n",
        "\n",
        "    qrtr_df['quarter'] = qrtr_df['quarter'].astype(str)\n",
        "\n",
        "    return qrtr_df\n",
        "\n",
        "# Call the function with appropriate start and end dates to capture data for the quarter;\n",
        "# Note: edate must be the first date of the next quarter\n",
        "\n",
        "Y2022Q2 = qrtr_func('2022-04-01', '2022-07-01')\n",
        "Y2022Q3 = qrtr_func('2022-07-01', '2022-10-01')\n",
        "Y2022Q4 = qrtr_func('2022-10-01', '2023-01-01')\n",
        "Y2023Q1 = qrtr_func('2023-01-01', '2023-04-01')"
      ]
    },
    {
      "cell_type": "code",
      "execution_count": null,
      "metadata": {
        "id": "hTxF132VFciV",
        "outputId": "3d6f241b-3802-4d99-d592-faed4fb4d28b"
      },
      "outputs": [
        {
          "data": {
            "text/plain": [
              "[    index  Pct Returns   Std dev quarter   Tracking\n",
              " 0    AAPL   -21.449784  0.025790  2022Q2  steelblue\n",
              " 1    ABNB   -48.529498  0.044561  2022Q2  steelblue\n",
              " 2    ADBE   -20.107380  0.027728  2022Q2  steelblue\n",
              " 3     ADI   -11.242042  0.022863  2022Q2  steelblue\n",
              " 4     ADP    -9.619842  0.019553  2022Q2  steelblue\n",
              " ..    ...          ...       ...     ...        ...\n",
              " 96    WBD   -46.362910  0.040649  2022Q2  steelblue\n",
              " 97   WDAY   -41.335684  0.033615  2022Q2  steelblue\n",
              " 98    XEL    -2.036367  0.013376  2022Q2  steelblue\n",
              " 99     ZM    -8.515502  0.044547  2022Q2  steelblue\n",
              " 100    ZS   -39.275419  0.054524  2022Q2  steelblue\n",
              " \n",
              " [101 rows x 5 columns],\n",
              "     index  Pct Returns   Std dev quarter   Tracking\n",
              " 0    AAPL    -0.387272  0.019300  2022Q3  steelblue\n",
              " 1    ABNB    14.910838  0.030509  2022Q3  steelblue\n",
              " 2    ADBE   -25.314806  0.030104  2022Q3  steelblue\n",
              " 3     ADI    -2.028811  0.019512  2022Q3  steelblue\n",
              " 4     ADP     6.536322  0.016101  2022Q3  steelblue\n",
              " ..    ...          ...       ...     ...        ...\n",
              " 96    WBD   -19.298246  0.037166  2022Q3  steelblue\n",
              " 97   WDAY     6.933611  0.025477  2022Q3  steelblue\n",
              " 98    XEL   -11.305650  0.015070  2022Q3  steelblue\n",
              " 99     ZM   -33.684784  0.039804  2022Q3  steelblue\n",
              " 100    ZS     5.792624  0.044671  2022Q3  steelblue\n",
              " \n",
              " [101 rows x 5 columns],\n",
              "     index  Pct Returns   Std dev quarter   Tracking\n",
              " 0    AAPL    -8.637747  0.025345  2022Q4  steelblue\n",
              " 1    ABNB   -18.571429  0.036085  2022Q4  steelblue\n",
              " 2    ADBE    17.981353  0.025652  2022Q4  steelblue\n",
              " 3     ADI    13.525952  0.024220  2022Q4  steelblue\n",
              " 4     ADP     3.344414  0.018016  2022Q4  steelblue\n",
              " ..    ...          ...       ...     ...        ...\n",
              " 96    WBD   -20.669459  0.040223  2022Q4  steelblue\n",
              " 97   WDAY     8.479742  0.038546  2022Q4  steelblue\n",
              " 98    XEL     7.707234  0.016818  2022Q4  steelblue\n",
              " 99     ZM    -8.385183  0.036336  2022Q4  steelblue\n",
              " 100    ZS   -34.373348  0.044330  2022Q4  steelblue\n",
              " \n",
              " [101 rows x 5 columns],\n",
              "     index  Pct Returns   Std dev quarter   Tracking\n",
              " 0    AAPL    32.047473  0.014467  2023Q1  steelblue\n",
              " 1    ABNB    46.525323  0.033091  2023Q1  steelblue\n",
              " 2    ADBE    14.380262  0.022316  2023Q1  steelblue\n",
              " 3     ADI    21.968518  0.017706  2023Q1  steelblue\n",
              " 4     ADP    -5.793650  0.013934  2023Q1  steelblue\n",
              " ..    ...          ...       ...     ...        ...\n",
              " 96    WBD    58.280927  0.033596  2023Q1  steelblue\n",
              " 97   WDAY    21.960429  0.020527  2023Q1  steelblue\n",
              " 98    XEL    -2.980800  0.014378  2023Q1  steelblue\n",
              " 99     ZM    10.771066  0.030520  2023Q1  steelblue\n",
              " 100    ZS     6.025954  0.036125  2023Q1  steelblue\n",
              " \n",
              " [101 rows x 5 columns]]"
            ]
          },
          "execution_count": 88,
          "metadata": {},
          "output_type": "execute_result"
        }
      ],
      "source": [
        "# Create a color category to highlight certain markers on the scatter plot (animated or still):\n",
        "\n",
        "dflist = [Y2022Q2, Y2022Q3, Y2022Q4, Y2023Q1]\n",
        "\n",
        "def tracker(dflist):\n",
        "\n",
        "    for i in range(len(dflist)):\n",
        "\n",
        "        df = dflist[i].reset_index(inplace=False)\n",
        "\n",
        "        df['Tracking'] = df.iloc[: , 0].apply(lambda x: 'magenta' if x == 'TSLA' or x == 'LCID' or x == 'NVDA' or x == 'META' or x == 'ALGN' else 'steelblue')\n",
        "\n",
        "        dflist[i] = df\n",
        "\n",
        "    return dflist\n",
        "\n",
        "tracker(dflist)"
      ]
    },
    {
      "cell_type": "code",
      "execution_count": null,
      "metadata": {
        "id": "xkkWRvGEFciW",
        "outputId": "84a58265-a800-43e3-ec21-e04aa54a1c32"
      },
      "outputs": [
        {
          "name": "stdout",
          "output_type": "stream",
          "text": [
            "<class 'pandas.core.frame.DataFrame'>\n",
            "Int64Index: 404 entries, 0 to 100\n",
            "Data columns (total 5 columns):\n",
            " #   Column       Non-Null Count  Dtype        \n",
            "---  ------       --------------  -----        \n",
            " 0   index        404 non-null    object       \n",
            " 1   Pct Returns  404 non-null    float64      \n",
            " 2   Std dev      404 non-null    float64      \n",
            " 3   quarter      404 non-null    period[Q-DEC]\n",
            " 4   Tracking     404 non-null    object       \n",
            "dtypes: float64(2), object(2), period[Q-DEC](1)\n",
            "memory usage: 18.9+ KB\n"
          ]
        }
      ],
      "source": [
        "# Concatenate the dfs:\n",
        "\n",
        "concat_df = pd.concat(dflist, axis=0)\n",
        "concat_df.info()"
      ]
    },
    {
      "cell_type": "code",
      "execution_count": null,
      "metadata": {
        "id": "0jK_2CFHFciX",
        "outputId": "9f1e0596-f740-4563-8016-507f184bc2c6"
      },
      "outputs": [
        {
          "data": {
            "application/vnd.plotly.v1+json": {
              "config": {
                "plotlyServerURL": "https://plot.ly"
              },
              "data": [
                {
                  "hovertemplate": "<b>%{hovertext}</b><br><br>Tracking=steelblue<br>quarter=2022Q2<br>Std dev=%{x}<br>Pct Returns=%{y}<br>index=%{text}<extra></extra>",
                  "hovertext": [
                    "AAPL",
                    "ABNB",
                    "ADBE",
                    "ADI",
                    "ADP",
                    "ADSK",
                    "AEP",
                    "AMAT",
                    "AMD",
                    "AMGN",
                    "AMZN",
                    "ANSS",
                    "ASML",
                    "ATVI",
                    "AVGO",
                    "AZN",
                    "BIIB",
                    "BKNG",
                    "BKR",
                    "BMRN",
                    "CDNS",
                    "CHTR",
                    "CMCSA",
                    "COST",
                    "CPRT",
                    "CRWD",
                    "CSCO",
                    "CSGP",
                    "CSX",
                    "CTAS",
                    "CTSH",
                    "DDOG",
                    "DLTR",
                    "DXCM",
                    "EA",
                    "EBAY",
                    "ENPH",
                    "EXC",
                    "FANG",
                    "FAST",
                    "FISV",
                    "FTNT",
                    "GFS",
                    "GILD",
                    "GOOG",
                    "GOOGL",
                    "HON",
                    "IDXX",
                    "ILMN",
                    "INTC",
                    "INTU",
                    "ISRG",
                    "JD",
                    "KDP",
                    "KHC",
                    "KLAC",
                    "LRCX",
                    "LULU",
                    "MAR",
                    "MCHP",
                    "MDLZ",
                    "MELI",
                    "MNST",
                    "MRNA",
                    "MRVL",
                    "MSFT",
                    "MU",
                    "NFLX",
                    "NXPI",
                    "ODFL",
                    "ORLY",
                    "PANW",
                    "PAYX",
                    "PCAR",
                    "PDD",
                    "PEP",
                    "PYPL",
                    "QCOM",
                    "REGN",
                    "RIVN",
                    "ROST",
                    "SBUX",
                    "SGEN",
                    "SIRI",
                    "SNPS",
                    "TEAM",
                    "TMUS",
                    "TXN",
                    "VRSK",
                    "VRTX",
                    "WBA",
                    "WBD",
                    "WDAY",
                    "XEL",
                    "ZM",
                    "ZS"
                  ],
                  "legendgroup": "steelblue",
                  "marker": {
                    "color": "#636efa",
                    "line": {
                      "color": "white",
                      "width": 2
                    },
                    "size": 12,
                    "symbol": "circle"
                  },
                  "mode": "markers+text",
                  "name": "steelblue",
                  "orientation": "v",
                  "showlegend": true,
                  "text": [
                    "AAPL",
                    "ABNB",
                    "ADBE",
                    "ADI",
                    "ADP",
                    "ADSK",
                    "AEP",
                    "AMAT",
                    "AMD",
                    "AMGN",
                    "AMZN",
                    "ANSS",
                    "ASML",
                    "ATVI",
                    "AVGO",
                    "AZN",
                    "BIIB",
                    "BKNG",
                    "BKR",
                    "BMRN",
                    "CDNS",
                    "CHTR",
                    "CMCSA",
                    "COST",
                    "CPRT",
                    "CRWD",
                    "CSCO",
                    "CSGP",
                    "CSX",
                    "CTAS",
                    "CTSH",
                    "DDOG",
                    "DLTR",
                    "DXCM",
                    "EA",
                    "EBAY",
                    "ENPH",
                    "EXC",
                    "FANG",
                    "FAST",
                    "FISV",
                    "FTNT",
                    "GFS",
                    "GILD",
                    "GOOG",
                    "GOOGL",
                    "HON",
                    "IDXX",
                    "ILMN",
                    "INTC",
                    "INTU",
                    "ISRG",
                    "JD",
                    "KDP",
                    "KHC",
                    "KLAC",
                    "LRCX",
                    "LULU",
                    "MAR",
                    "MCHP",
                    "MDLZ",
                    "MELI",
                    "MNST",
                    "MRNA",
                    "MRVL",
                    "MSFT",
                    "MU",
                    "NFLX",
                    "NXPI",
                    "ODFL",
                    "ORLY",
                    "PANW",
                    "PAYX",
                    "PCAR",
                    "PDD",
                    "PEP",
                    "PYPL",
                    "QCOM",
                    "REGN",
                    "RIVN",
                    "ROST",
                    "SBUX",
                    "SGEN",
                    "SIRI",
                    "SNPS",
                    "TEAM",
                    "TMUS",
                    "TXN",
                    "VRSK",
                    "VRTX",
                    "WBA",
                    "WBD",
                    "WDAY",
                    "XEL",
                    "ZM",
                    "ZS"
                  ],
                  "textposition": "top center",
                  "type": "scatter",
                  "x": [
                    0.025789519517375393,
                    0.04456081346690636,
                    0.02772840553490518,
                    0.022862805675922353,
                    0.019553117297859496,
                    0.03682551343516094,
                    0.014336943780504324,
                    0.03322100895019325,
                    0.04226524178935623,
                    0.011630327511566575,
                    0.036616198905550526,
                    0.030313620195200806,
                    0.03266516515531023,
                    0.00909378097936573,
                    0.02590230573156602,
                    0.018593139225013634,
                    0.023120991906641988,
                    0.03089513454557952,
                    0.029346512771396303,
                    0.02683579297473697,
                    0.02999860452074863,
                    0.026095590510011146,
                    0.01896963109254141,
                    0.027761807231892192,
                    0.023982779555191083,
                    0.050544583530281094,
                    0.024895154960336265,
                    0.02695205741960074,
                    0.017273930956818954,
                    0.02046026520277844,
                    0.025741717437719136,
                    0.055192126933561646,
                    0.03807119509688847,
                    0.037805662452285,
                    0.020349921837304205,
                    0.028761370818495394,
                    0.05379926871347974,
                    0.017147844675131193,
                    0.03644414554322757,
                    0.02075761526404277,
                    0.022970031025133654,
                    0.03379804236066423,
                    0.03504638725313697,
                    0.014195017548002592,
                    0.02564160247556486,
                    0.025946532916818237,
                    0.016217115906686057,
                    0.029921583558387716,
                    0.03830831531388092,
                    0.02306933513180239,
                    0.03653646165198595,
                    0.03377818184807154,
                    0.041143531997377435,
                    0.01493017818234111,
                    0.020479606791653202,
                    0.033487374769956356,
                    0.034234058184981465,
                    0.03570450062469598,
                    0.02965571921212598,
                    0.030901098110315356,
                    0.015789410347599852,
                    0.05841367877372546,
                    0.018886192372320167,
                    0.04381241257869589,
                    0.041737663457488826,
                    0.024020715000084666,
                    0.030195518890061317,
                    0.05853174687485493,
                    0.028376753211184796,
                    0.03007008672624416,
                    0.02712652005512245,
                    0.033535494764713014,
                    0.020153160429300307,
                    0.01838013690616939,
                    0.0639096433610367,
                    0.015160346492651765,
                    0.039202256146320995,
                    0.03199620575504325,
                    0.02093959349293602,
                    0.0633225827356933,
                    0.04021656092182972,
                    0.028113018716039787,
                    0.03625177064265044,
                    0.017764776913208137,
                    0.031143228359945298,
                    0.054105007727513955,
                    0.02089659019061344,
                    0.01879084754479687,
                    0.018504089328251948,
                    0.024833340377956623,
                    0.021039805920369248,
                    0.04064875017910945,
                    0.03361527802209335,
                    0.013375968377676606,
                    0.04454694728872839,
                    0.05452358636403204
                  ],
                  "xaxis": "x",
                  "y": [
                    -21.44978398993553,
                    -48.52949785564077,
                    -20.107379993432783,
                    -11.242042485573965,
                    -9.619842376756468,
                    -19.282758104996432,
                    -4.741515455297002,
                    -28.418123033000693,
                    -29.318791482495904,
                    0.8780807121371933,
                    -35.06358481912793,
                    -24.392555635352682,
                    -28.204928836164285,
                    -3.0898205275954633,
                    -21.87349248199925,
                    -1.1076173294422735,
                    -3.1853746259188047,
                    -26.13532506440083,
                    -20.34388609233054,
                    4.541448537869354,
                    -9.418586997297398,
                    -16.584175172900164,
                    -17.271568025368435,
                    -16.594033758446017,
                    -13.542327022389006,
                    -26.0215084295348,
                    -22.867410394044988,
                    -8.469697200890744,
                    -17.90393466950696,
                    -11.649763930116505,
                    -24.730072481411227,
                    -37.954398785817894,
                    -2.2454912731169276,
                    -43.91707752327039,
                    -2.7270463420196642,
                    -27.4672880403419,
                    -5.17266206617893,
                    -4.230026849483004,
                    -10.384060074229707,
                    -15.881976993301594,
                    -13.612969156103313,
                    -16.551133888094714,
                    -33.58577702033716,
                    4.880788912746188,
                    -22.26545847131223,
                    -22.252864292633248,
                    -10.880163427841467,
                    -36.62727496401734,
                    -49.33772912818599,
                    -21.626031691454756,
                    -20.242549989954128,
                    -34.30974631776974,
                    11.423746831914224,
                    -6.962723301424339,
                    -3.5150882943452135,
                    -11.137446251500991,
                    -18.625078128195184,
                    -25.80829971145175,
                    -21.54522124960981,
                    -21.152654747252686,
                    -1.7092571019084803,
                    -47.973663534359986,
                    12.84235572295129,
                    -19.10639953229076,
                    -38.69522125689042,
                    -16.802998513829987,
                    -27.335857037593463,
                    -53.17696346544108,
                    -18.263924416152967,
                    -7.873836391803356,
                    -5.344378182219888,
                    -19.173309287214245,
                    -17.459643702057736,
                    -2.9930480141746205,
                    44.90034472697948,
                    -1.143254480112052,
                    -40.13885537500564,
                    -12.638643647388612,
                    -14.92451529963515,
                    -44.57364226467839,
                    -22.20043878353718,
                    -15.916460241417022,
                    18.8394137730838,
                    -6.6506305398500345,
                    -9.337870247002153,
                    -38.708096844976495,
                    2.8907914791165448,
                    -15.040235871578348,
                    -19.00685117086442,
                    5.8763911354889915,
                    -12.573640728997463,
                    -46.36291034866973,
                    -41.33568439130942,
                    -2.036366885293557,
                    -8.515502209983932,
                    -39.27541918286494
                  ],
                  "yaxis": "y"
                },
                {
                  "hovertemplate": "<b>%{hovertext}</b><br><br>Tracking=magenta<br>quarter=2022Q2<br>Std dev=%{x}<br>Pct Returns=%{y}<br>index=%{text}<extra></extra>",
                  "hovertext": [
                    "ALGN",
                    "LCID",
                    "META",
                    "NVDA",
                    "TSLA"
                  ],
                  "legendgroup": "magenta",
                  "marker": {
                    "color": "#EF553B",
                    "line": {
                      "color": "white",
                      "width": 2
                    },
                    "size": 12,
                    "symbol": "circle"
                  },
                  "mode": "markers+text",
                  "name": "magenta",
                  "orientation": "v",
                  "showlegend": true,
                  "text": [
                    "ALGN",
                    "LCID",
                    "META",
                    "NVDA",
                    "TSLA"
                  ],
                  "textposition": "top center",
                  "type": "scatter",
                  "x": [
                    0.03945988911247722,
                    0.057245304412514374,
                    0.04210088793484072,
                    0.04384096463930173,
                    0.047512200188423045
                  ],
                  "xaxis": "x",
                  "y": [
                    -46.98371536761476,
                    -30.10183144320646,
                    -28.285525629132373,
                    -43.23822745249613,
                    -37.91017940567833
                  ],
                  "yaxis": "y"
                }
              ],
              "frames": [
                {
                  "data": [
                    {
                      "hovertemplate": "<b>%{hovertext}</b><br><br>Tracking=steelblue<br>quarter=2022Q2<br>Std dev=%{x}<br>Pct Returns=%{y}<br>index=%{text}<extra></extra>",
                      "hovertext": [
                        "AAPL",
                        "ABNB",
                        "ADBE",
                        "ADI",
                        "ADP",
                        "ADSK",
                        "AEP",
                        "AMAT",
                        "AMD",
                        "AMGN",
                        "AMZN",
                        "ANSS",
                        "ASML",
                        "ATVI",
                        "AVGO",
                        "AZN",
                        "BIIB",
                        "BKNG",
                        "BKR",
                        "BMRN",
                        "CDNS",
                        "CHTR",
                        "CMCSA",
                        "COST",
                        "CPRT",
                        "CRWD",
                        "CSCO",
                        "CSGP",
                        "CSX",
                        "CTAS",
                        "CTSH",
                        "DDOG",
                        "DLTR",
                        "DXCM",
                        "EA",
                        "EBAY",
                        "ENPH",
                        "EXC",
                        "FANG",
                        "FAST",
                        "FISV",
                        "FTNT",
                        "GFS",
                        "GILD",
                        "GOOG",
                        "GOOGL",
                        "HON",
                        "IDXX",
                        "ILMN",
                        "INTC",
                        "INTU",
                        "ISRG",
                        "JD",
                        "KDP",
                        "KHC",
                        "KLAC",
                        "LRCX",
                        "LULU",
                        "MAR",
                        "MCHP",
                        "MDLZ",
                        "MELI",
                        "MNST",
                        "MRNA",
                        "MRVL",
                        "MSFT",
                        "MU",
                        "NFLX",
                        "NXPI",
                        "ODFL",
                        "ORLY",
                        "PANW",
                        "PAYX",
                        "PCAR",
                        "PDD",
                        "PEP",
                        "PYPL",
                        "QCOM",
                        "REGN",
                        "RIVN",
                        "ROST",
                        "SBUX",
                        "SGEN",
                        "SIRI",
                        "SNPS",
                        "TEAM",
                        "TMUS",
                        "TXN",
                        "VRSK",
                        "VRTX",
                        "WBA",
                        "WBD",
                        "WDAY",
                        "XEL",
                        "ZM",
                        "ZS"
                      ],
                      "legendgroup": "steelblue",
                      "marker": {
                        "color": "#636efa",
                        "symbol": "circle"
                      },
                      "mode": "markers+text",
                      "name": "steelblue",
                      "orientation": "v",
                      "showlegend": true,
                      "text": [
                        "AAPL",
                        "ABNB",
                        "ADBE",
                        "ADI",
                        "ADP",
                        "ADSK",
                        "AEP",
                        "AMAT",
                        "AMD",
                        "AMGN",
                        "AMZN",
                        "ANSS",
                        "ASML",
                        "ATVI",
                        "AVGO",
                        "AZN",
                        "BIIB",
                        "BKNG",
                        "BKR",
                        "BMRN",
                        "CDNS",
                        "CHTR",
                        "CMCSA",
                        "COST",
                        "CPRT",
                        "CRWD",
                        "CSCO",
                        "CSGP",
                        "CSX",
                        "CTAS",
                        "CTSH",
                        "DDOG",
                        "DLTR",
                        "DXCM",
                        "EA",
                        "EBAY",
                        "ENPH",
                        "EXC",
                        "FANG",
                        "FAST",
                        "FISV",
                        "FTNT",
                        "GFS",
                        "GILD",
                        "GOOG",
                        "GOOGL",
                        "HON",
                        "IDXX",
                        "ILMN",
                        "INTC",
                        "INTU",
                        "ISRG",
                        "JD",
                        "KDP",
                        "KHC",
                        "KLAC",
                        "LRCX",
                        "LULU",
                        "MAR",
                        "MCHP",
                        "MDLZ",
                        "MELI",
                        "MNST",
                        "MRNA",
                        "MRVL",
                        "MSFT",
                        "MU",
                        "NFLX",
                        "NXPI",
                        "ODFL",
                        "ORLY",
                        "PANW",
                        "PAYX",
                        "PCAR",
                        "PDD",
                        "PEP",
                        "PYPL",
                        "QCOM",
                        "REGN",
                        "RIVN",
                        "ROST",
                        "SBUX",
                        "SGEN",
                        "SIRI",
                        "SNPS",
                        "TEAM",
                        "TMUS",
                        "TXN",
                        "VRSK",
                        "VRTX",
                        "WBA",
                        "WBD",
                        "WDAY",
                        "XEL",
                        "ZM",
                        "ZS"
                      ],
                      "type": "scatter",
                      "x": [
                        0.025789519517375393,
                        0.04456081346690636,
                        0.02772840553490518,
                        0.022862805675922353,
                        0.019553117297859496,
                        0.03682551343516094,
                        0.014336943780504324,
                        0.03322100895019325,
                        0.04226524178935623,
                        0.011630327511566575,
                        0.036616198905550526,
                        0.030313620195200806,
                        0.03266516515531023,
                        0.00909378097936573,
                        0.02590230573156602,
                        0.018593139225013634,
                        0.023120991906641988,
                        0.03089513454557952,
                        0.029346512771396303,
                        0.02683579297473697,
                        0.02999860452074863,
                        0.026095590510011146,
                        0.01896963109254141,
                        0.027761807231892192,
                        0.023982779555191083,
                        0.050544583530281094,
                        0.024895154960336265,
                        0.02695205741960074,
                        0.017273930956818954,
                        0.02046026520277844,
                        0.025741717437719136,
                        0.055192126933561646,
                        0.03807119509688847,
                        0.037805662452285,
                        0.020349921837304205,
                        0.028761370818495394,
                        0.05379926871347974,
                        0.017147844675131193,
                        0.03644414554322757,
                        0.02075761526404277,
                        0.022970031025133654,
                        0.03379804236066423,
                        0.03504638725313697,
                        0.014195017548002592,
                        0.02564160247556486,
                        0.025946532916818237,
                        0.016217115906686057,
                        0.029921583558387716,
                        0.03830831531388092,
                        0.02306933513180239,
                        0.03653646165198595,
                        0.03377818184807154,
                        0.041143531997377435,
                        0.01493017818234111,
                        0.020479606791653202,
                        0.033487374769956356,
                        0.034234058184981465,
                        0.03570450062469598,
                        0.02965571921212598,
                        0.030901098110315356,
                        0.015789410347599852,
                        0.05841367877372546,
                        0.018886192372320167,
                        0.04381241257869589,
                        0.041737663457488826,
                        0.024020715000084666,
                        0.030195518890061317,
                        0.05853174687485493,
                        0.028376753211184796,
                        0.03007008672624416,
                        0.02712652005512245,
                        0.033535494764713014,
                        0.020153160429300307,
                        0.01838013690616939,
                        0.0639096433610367,
                        0.015160346492651765,
                        0.039202256146320995,
                        0.03199620575504325,
                        0.02093959349293602,
                        0.0633225827356933,
                        0.04021656092182972,
                        0.028113018716039787,
                        0.03625177064265044,
                        0.017764776913208137,
                        0.031143228359945298,
                        0.054105007727513955,
                        0.02089659019061344,
                        0.01879084754479687,
                        0.018504089328251948,
                        0.024833340377956623,
                        0.021039805920369248,
                        0.04064875017910945,
                        0.03361527802209335,
                        0.013375968377676606,
                        0.04454694728872839,
                        0.05452358636403204
                      ],
                      "xaxis": "x",
                      "y": [
                        -21.44978398993553,
                        -48.52949785564077,
                        -20.107379993432783,
                        -11.242042485573965,
                        -9.619842376756468,
                        -19.282758104996432,
                        -4.741515455297002,
                        -28.418123033000693,
                        -29.318791482495904,
                        0.8780807121371933,
                        -35.06358481912793,
                        -24.392555635352682,
                        -28.204928836164285,
                        -3.0898205275954633,
                        -21.87349248199925,
                        -1.1076173294422735,
                        -3.1853746259188047,
                        -26.13532506440083,
                        -20.34388609233054,
                        4.541448537869354,
                        -9.418586997297398,
                        -16.584175172900164,
                        -17.271568025368435,
                        -16.594033758446017,
                        -13.542327022389006,
                        -26.0215084295348,
                        -22.867410394044988,
                        -8.469697200890744,
                        -17.90393466950696,
                        -11.649763930116505,
                        -24.730072481411227,
                        -37.954398785817894,
                        -2.2454912731169276,
                        -43.91707752327039,
                        -2.7270463420196642,
                        -27.4672880403419,
                        -5.17266206617893,
                        -4.230026849483004,
                        -10.384060074229707,
                        -15.881976993301594,
                        -13.612969156103313,
                        -16.551133888094714,
                        -33.58577702033716,
                        4.880788912746188,
                        -22.26545847131223,
                        -22.252864292633248,
                        -10.880163427841467,
                        -36.62727496401734,
                        -49.33772912818599,
                        -21.626031691454756,
                        -20.242549989954128,
                        -34.30974631776974,
                        11.423746831914224,
                        -6.962723301424339,
                        -3.5150882943452135,
                        -11.137446251500991,
                        -18.625078128195184,
                        -25.80829971145175,
                        -21.54522124960981,
                        -21.152654747252686,
                        -1.7092571019084803,
                        -47.973663534359986,
                        12.84235572295129,
                        -19.10639953229076,
                        -38.69522125689042,
                        -16.802998513829987,
                        -27.335857037593463,
                        -53.17696346544108,
                        -18.263924416152967,
                        -7.873836391803356,
                        -5.344378182219888,
                        -19.173309287214245,
                        -17.459643702057736,
                        -2.9930480141746205,
                        44.90034472697948,
                        -1.143254480112052,
                        -40.13885537500564,
                        -12.638643647388612,
                        -14.92451529963515,
                        -44.57364226467839,
                        -22.20043878353718,
                        -15.916460241417022,
                        18.8394137730838,
                        -6.6506305398500345,
                        -9.337870247002153,
                        -38.708096844976495,
                        2.8907914791165448,
                        -15.040235871578348,
                        -19.00685117086442,
                        5.8763911354889915,
                        -12.573640728997463,
                        -46.36291034866973,
                        -41.33568439130942,
                        -2.036366885293557,
                        -8.515502209983932,
                        -39.27541918286494
                      ],
                      "yaxis": "y"
                    },
                    {
                      "hovertemplate": "<b>%{hovertext}</b><br><br>Tracking=magenta<br>quarter=2022Q2<br>Std dev=%{x}<br>Pct Returns=%{y}<br>index=%{text}<extra></extra>",
                      "hovertext": [
                        "ALGN",
                        "LCID",
                        "META",
                        "NVDA",
                        "TSLA"
                      ],
                      "legendgroup": "magenta",
                      "marker": {
                        "color": "#EF553B",
                        "symbol": "circle"
                      },
                      "mode": "markers+text",
                      "name": "magenta",
                      "orientation": "v",
                      "showlegend": true,
                      "text": [
                        "ALGN",
                        "LCID",
                        "META",
                        "NVDA",
                        "TSLA"
                      ],
                      "type": "scatter",
                      "x": [
                        0.03945988911247722,
                        0.057245304412514374,
                        0.04210088793484072,
                        0.04384096463930173,
                        0.047512200188423045
                      ],
                      "xaxis": "x",
                      "y": [
                        -46.98371536761476,
                        -30.10183144320646,
                        -28.285525629132373,
                        -43.23822745249613,
                        -37.91017940567833
                      ],
                      "yaxis": "y"
                    }
                  ],
                  "name": "2022Q2"
                },
                {
                  "data": [
                    {
                      "hovertemplate": "<b>%{hovertext}</b><br><br>Tracking=steelblue<br>quarter=2022Q3<br>Std dev=%{x}<br>Pct Returns=%{y}<br>index=%{text}<extra></extra>",
                      "hovertext": [
                        "AAPL",
                        "ABNB",
                        "ADBE",
                        "ADI",
                        "ADP",
                        "ADSK",
                        "AEP",
                        "AMAT",
                        "AMD",
                        "AMGN",
                        "AMZN",
                        "ANSS",
                        "ASML",
                        "ATVI",
                        "AVGO",
                        "AZN",
                        "BIIB",
                        "BKNG",
                        "BKR",
                        "BMRN",
                        "CDNS",
                        "CHTR",
                        "CMCSA",
                        "COST",
                        "CPRT",
                        "CRWD",
                        "CSCO",
                        "CSGP",
                        "CSX",
                        "CTAS",
                        "CTSH",
                        "DDOG",
                        "DLTR",
                        "DXCM",
                        "EA",
                        "EBAY",
                        "ENPH",
                        "EXC",
                        "FANG",
                        "FAST",
                        "FISV",
                        "FTNT",
                        "GFS",
                        "GILD",
                        "GOOG",
                        "GOOGL",
                        "HON",
                        "IDXX",
                        "ILMN",
                        "INTC",
                        "INTU",
                        "ISRG",
                        "JD",
                        "KDP",
                        "KHC",
                        "KLAC",
                        "LRCX",
                        "LULU",
                        "MAR",
                        "MCHP",
                        "MDLZ",
                        "MELI",
                        "MNST",
                        "MRNA",
                        "MRVL",
                        "MSFT",
                        "MU",
                        "NFLX",
                        "NXPI",
                        "ODFL",
                        "ORLY",
                        "PANW",
                        "PAYX",
                        "PCAR",
                        "PDD",
                        "PEP",
                        "PYPL",
                        "QCOM",
                        "REGN",
                        "RIVN",
                        "ROST",
                        "SBUX",
                        "SGEN",
                        "SIRI",
                        "SNPS",
                        "TEAM",
                        "TMUS",
                        "TXN",
                        "VRSK",
                        "VRTX",
                        "WBA",
                        "WBD",
                        "WDAY",
                        "XEL",
                        "ZM",
                        "ZS"
                      ],
                      "legendgroup": "steelblue",
                      "marker": {
                        "color": "#636efa",
                        "symbol": "circle"
                      },
                      "mode": "markers+text",
                      "name": "steelblue",
                      "orientation": "v",
                      "showlegend": true,
                      "text": [
                        "AAPL",
                        "ABNB",
                        "ADBE",
                        "ADI",
                        "ADP",
                        "ADSK",
                        "AEP",
                        "AMAT",
                        "AMD",
                        "AMGN",
                        "AMZN",
                        "ANSS",
                        "ASML",
                        "ATVI",
                        "AVGO",
                        "AZN",
                        "BIIB",
                        "BKNG",
                        "BKR",
                        "BMRN",
                        "CDNS",
                        "CHTR",
                        "CMCSA",
                        "COST",
                        "CPRT",
                        "CRWD",
                        "CSCO",
                        "CSGP",
                        "CSX",
                        "CTAS",
                        "CTSH",
                        "DDOG",
                        "DLTR",
                        "DXCM",
                        "EA",
                        "EBAY",
                        "ENPH",
                        "EXC",
                        "FANG",
                        "FAST",
                        "FISV",
                        "FTNT",
                        "GFS",
                        "GILD",
                        "GOOG",
                        "GOOGL",
                        "HON",
                        "IDXX",
                        "ILMN",
                        "INTC",
                        "INTU",
                        "ISRG",
                        "JD",
                        "KDP",
                        "KHC",
                        "KLAC",
                        "LRCX",
                        "LULU",
                        "MAR",
                        "MCHP",
                        "MDLZ",
                        "MELI",
                        "MNST",
                        "MRNA",
                        "MRVL",
                        "MSFT",
                        "MU",
                        "NFLX",
                        "NXPI",
                        "ODFL",
                        "ORLY",
                        "PANW",
                        "PAYX",
                        "PCAR",
                        "PDD",
                        "PEP",
                        "PYPL",
                        "QCOM",
                        "REGN",
                        "RIVN",
                        "ROST",
                        "SBUX",
                        "SGEN",
                        "SIRI",
                        "SNPS",
                        "TEAM",
                        "TMUS",
                        "TXN",
                        "VRSK",
                        "VRTX",
                        "WBA",
                        "WBD",
                        "WDAY",
                        "XEL",
                        "ZM",
                        "ZS"
                      ],
                      "type": "scatter",
                      "x": [
                        0.019300020859725528,
                        0.030509344725288476,
                        0.030104296297962154,
                        0.01951241622255473,
                        0.01610098333714834,
                        0.02273595054253182,
                        0.01526647884417446,
                        0.027204893023266168,
                        0.03154554894542897,
                        0.01225691234988381,
                        0.027597201518278117,
                        0.021529690503207428,
                        0.027894977630258576,
                        0.0086578581804538,
                        0.019837619021275534,
                        0.015745112467875313,
                        0.05383631665612904,
                        0.024289388108487665,
                        0.028885362264772042,
                        0.016251234573443532,
                        0.017474735779627455,
                        0.02378964767077643,
                        0.02273722588477916,
                        0.01664680640237808,
                        0.017108214373287665,
                        0.030508793983718873,
                        0.01579562323222998,
                        0.02663155177480983,
                        0.017111357774989955,
                        0.014737120196321602,
                        0.016837006726092597,
                        0.038138180205979116,
                        0.023454503866887428,
                        0.028640231897242702,
                        0.014901988294165615,
                        0.021553795121442145,
                        0.0399708272863643,
                        0.016532815909692886,
                        0.03008623847428616,
                        0.017029184816262487,
                        0.015618406890412532,
                        0.032208622007460476,
                        0.0393121694762921,
                        0.01602590514299611,
                        0.023390790615485144,
                        0.02325390860026748,
                        0.014605454266624254,
                        0.0228040580350338,
                        0.03389388077692626,
                        0.022502768472668588,
                        0.023790235105752282,
                        0.02240722841339177,
                        0.027649644359908722,
                        0.01182621257001496,
                        0.014646399761099993,
                        0.025923769580236265,
                        0.028207612273943753,
                        0.02878901325881123,
                        0.02046260414956098,
                        0.02493945628523989,
                        0.01173505024943627,
                        0.042414442543159896,
                        0.013567573341879814,
                        0.03923590831951831,
                        0.03354394751868245,
                        0.01851309154081279,
                        0.025895214809995376,
                        0.033093532039715406,
                        0.025504320177352144,
                        0.023728887957926194,
                        0.01269611213442882,
                        0.026836373560181686,
                        0.01654980667503535,
                        0.014984070353411049,
                        0.04389975316325933,
                        0.010378100392170365,
                        0.03225173237311346,
                        0.023611080485541912,
                        0.02961978083664427,
                        0.036708923235445924,
                        0.022672408174802032,
                        0.018905141822953983,
                        0.017753708607103617,
                        0.012533004166199584,
                        0.017770566868102234,
                        0.04056030228318407,
                        0.014977430887420458,
                        0.019650387838076207,
                        0.01398539587038207,
                        0.017911754713532315,
                        0.016663097027986757,
                        0.03716633592982316,
                        0.02547698725870313,
                        0.015070385560898653,
                        0.03980394916323458,
                        0.044671005507545936
                      ],
                      "xaxis": "x",
                      "y": [
                        -0.3872723120157027,
                        14.910837662582633,
                        -25.314805687725052,
                        -2.02881083966783,
                        6.536322095878414,
                        7.442771422972035,
                        -11.047400360938132,
                        -4.787843336878379,
                        -13.99483889622221,
                        -7.497181188006332,
                        3.1398343538356723,
                        -7.698074568143048,
                        -7.443339236681799,
                        -5.38373854316337,
                        -6.300620937963237,
                        -16.25877239792922,
                        26.762566495950985,
                        -7.057207712169306,
                        -27.404645186052477,
                        -0.24712485946266188,
                        9.215445965236189,
                        -36.92298144520895,
                        -26.711650755201394,
                        -2.6092791604773597,
                        -3.421981216052241,
                        -8.055789367590656,
                        -5.258169018136787,
                        13.58447793951602,
                        -8.924102844608782,
                        3.324004956083143,
                        -15.234488105346559,
                        -12.14250757239091,
                        -12.907146360461077,
                        3.7485556679975933,
                        -5.5814588780660905,
                        -13.748910092612427,
                        41.76885320362063,
                        -18.083097333700678,
                        1.7114417632427898,
                        -6.840758914198286,
                        1.0693431023863407,
                        -14.362903986721104,
                        24.581285141091207,
                        0.04747535818580277,
                        -11.854493086711527,
                        -12.035867256993575,
                        -4.172356291683553,
                        -9.106130573072162,
                        -0.130862651165172,
                        -28.370504194203626,
                        -0.08957969617506947,
                        -9.053858859536964,
                        -23.730096187060962,
                        -0.14700460770020654,
                        -12.793984975883562,
                        2.507640060138158,
                        -6.94300633153553,
                        6.143212231687947,
                        0.8717939152996235,
                        9.129838235193946,
                        -12.858379208933687,
                        25.43071656724119,
                        -8.06638920479751,
                        -21.140378521770817,
                        0.9843429773975657,
                        -10.087689064184108,
                        -6.434131691108556,
                        30.83634700428713,
                        1.5238363129277335,
                        -4.584326300496156,
                        10.57570693760564,
                        -3.3212070621966836,
                        -2.9809917733370743,
                        1.3307147671482267,
                        -3.4557202627515466,
                        -2.9711472227872138,
                        20.546215483802442,
                        -8.02723182918598,
                        15.698684392079002,
                        28.054470312972896,
                        18.473228762798495,
                        6.914066624245219,
                        -24.02975883217526,
                        -7.749519652093621,
                        1.4208407606143634,
                        6.622450607481527,
                        -1.9296830909727658,
                        4.887195670157828,
                        -2.558875002548436,
                        0.7726580690908944,
                        -17.600722631620428,
                        -19.298245614035086,
                        6.93361060343765,
                        -11.305649898004988,
                        -33.68478369975786,
                        5.792624240743375
                      ],
                      "yaxis": "y"
                    },
                    {
                      "hovertemplate": "<b>%{hovertext}</b><br><br>Tracking=magenta<br>quarter=2022Q3<br>Std dev=%{x}<br>Pct Returns=%{y}<br>index=%{text}<extra></extra>",
                      "hovertext": [
                        "ALGN",
                        "LCID",
                        "META",
                        "NVDA",
                        "TSLA"
                      ],
                      "legendgroup": "magenta",
                      "marker": {
                        "color": "#EF553B",
                        "symbol": "circle"
                      },
                      "mode": "markers+text",
                      "name": "magenta",
                      "orientation": "v",
                      "showlegend": true,
                      "text": [
                        "ALGN",
                        "LCID",
                        "META",
                        "NVDA",
                        "TSLA"
                      ],
                      "type": "scatter",
                      "x": [
                        0.03270012952785452,
                        0.041435708437893785,
                        0.0317979861696299,
                        0.03479246084112243,
                        0.030928442835287697
                      ],
                      "xaxis": "x",
                      "y": [
                        -16.26505875442035,
                        -17.82352784100701,
                        -15.215900949357373,
                        -16.390501567829897,
                        16.714822749939067
                      ],
                      "yaxis": "y"
                    }
                  ],
                  "name": "2022Q3"
                },
                {
                  "data": [
                    {
                      "hovertemplate": "<b>%{hovertext}</b><br><br>Tracking=steelblue<br>quarter=2022Q4<br>Std dev=%{x}<br>Pct Returns=%{y}<br>index=%{text}<extra></extra>",
                      "hovertext": [
                        "AAPL",
                        "ABNB",
                        "ADBE",
                        "ADI",
                        "ADP",
                        "ADSK",
                        "AEP",
                        "AMAT",
                        "AMD",
                        "AMGN",
                        "AMZN",
                        "ANSS",
                        "ASML",
                        "ATVI",
                        "AVGO",
                        "AZN",
                        "BIIB",
                        "BKNG",
                        "BKR",
                        "BMRN",
                        "CDNS",
                        "CHTR",
                        "CMCSA",
                        "COST",
                        "CPRT",
                        "CRWD",
                        "CSCO",
                        "CSGP",
                        "CSX",
                        "CTAS",
                        "CTSH",
                        "DDOG",
                        "DLTR",
                        "DXCM",
                        "EA",
                        "EBAY",
                        "ENPH",
                        "EXC",
                        "FANG",
                        "FAST",
                        "FISV",
                        "FTNT",
                        "GFS",
                        "GILD",
                        "GOOG",
                        "GOOGL",
                        "HON",
                        "IDXX",
                        "ILMN",
                        "INTC",
                        "INTU",
                        "ISRG",
                        "JD",
                        "KDP",
                        "KHC",
                        "KLAC",
                        "LRCX",
                        "LULU",
                        "MAR",
                        "MCHP",
                        "MDLZ",
                        "MELI",
                        "MNST",
                        "MRNA",
                        "MRVL",
                        "MSFT",
                        "MU",
                        "NFLX",
                        "NXPI",
                        "ODFL",
                        "ORLY",
                        "PANW",
                        "PAYX",
                        "PCAR",
                        "PDD",
                        "PEP",
                        "PYPL",
                        "QCOM",
                        "REGN",
                        "RIVN",
                        "ROST",
                        "SBUX",
                        "SGEN",
                        "SIRI",
                        "SNPS",
                        "TEAM",
                        "TMUS",
                        "TXN",
                        "VRSK",
                        "VRTX",
                        "WBA",
                        "WBD",
                        "WDAY",
                        "XEL",
                        "ZM",
                        "ZS"
                      ],
                      "legendgroup": "steelblue",
                      "marker": {
                        "color": "#636efa",
                        "symbol": "circle"
                      },
                      "mode": "markers+text",
                      "name": "steelblue",
                      "orientation": "v",
                      "showlegend": true,
                      "text": [
                        "AAPL",
                        "ABNB",
                        "ADBE",
                        "ADI",
                        "ADP",
                        "ADSK",
                        "AEP",
                        "AMAT",
                        "AMD",
                        "AMGN",
                        "AMZN",
                        "ANSS",
                        "ASML",
                        "ATVI",
                        "AVGO",
                        "AZN",
                        "BIIB",
                        "BKNG",
                        "BKR",
                        "BMRN",
                        "CDNS",
                        "CHTR",
                        "CMCSA",
                        "COST",
                        "CPRT",
                        "CRWD",
                        "CSCO",
                        "CSGP",
                        "CSX",
                        "CTAS",
                        "CTSH",
                        "DDOG",
                        "DLTR",
                        "DXCM",
                        "EA",
                        "EBAY",
                        "ENPH",
                        "EXC",
                        "FANG",
                        "FAST",
                        "FISV",
                        "FTNT",
                        "GFS",
                        "GILD",
                        "GOOG",
                        "GOOGL",
                        "HON",
                        "IDXX",
                        "ILMN",
                        "INTC",
                        "INTU",
                        "ISRG",
                        "JD",
                        "KDP",
                        "KHC",
                        "KLAC",
                        "LRCX",
                        "LULU",
                        "MAR",
                        "MCHP",
                        "MDLZ",
                        "MELI",
                        "MNST",
                        "MRNA",
                        "MRVL",
                        "MSFT",
                        "MU",
                        "NFLX",
                        "NXPI",
                        "ODFL",
                        "ORLY",
                        "PANW",
                        "PAYX",
                        "PCAR",
                        "PDD",
                        "PEP",
                        "PYPL",
                        "QCOM",
                        "REGN",
                        "RIVN",
                        "ROST",
                        "SBUX",
                        "SGEN",
                        "SIRI",
                        "SNPS",
                        "TEAM",
                        "TMUS",
                        "TXN",
                        "VRSK",
                        "VRTX",
                        "WBA",
                        "WBD",
                        "WDAY",
                        "XEL",
                        "ZM",
                        "ZS"
                      ],
                      "type": "scatter",
                      "x": [
                        0.02534506414390549,
                        0.03608536551528363,
                        0.025652416426288877,
                        0.024220031719007218,
                        0.018016228384852763,
                        0.03157020993480148,
                        0.017246618104695088,
                        0.033110186671033694,
                        0.0380559814306404,
                        0.015514808827410704,
                        0.031133406069336553,
                        0.026511923088475577,
                        0.036707926522188336,
                        0.010408622333433488,
                        0.023978444767443555,
                        0.015473656975092663,
                        0.017441189213416242,
                        0.021674691536088413,
                        0.025763510342588967,
                        0.021016882985020854,
                        0.02503631994152287,
                        0.03184278643722458,
                        0.017451248481736837,
                        0.01813174258421953,
                        0.019586594015549606,
                        0.03872541674325081,
                        0.015874584959029367,
                        0.019916799132927366,
                        0.017068552294490624,
                        0.017521696134891997,
                        0.025568106431069878,
                        0.04439805547262095,
                        0.020070182966868497,
                        0.03589142889582614,
                        0.013647245310393748,
                        0.023661415169779786,
                        0.03752288794665747,
                        0.018501645643265514,
                        0.021919887311105186,
                        0.019551330160591275,
                        0.01961737656165838,
                        0.03239149138995284,
                        0.030842576242464767,
                        0.01997932905088353,
                        0.026816682859393,
                        0.026395357140137313,
                        0.014373523279929312,
                        0.02875509848451684,
                        0.032564379194512015,
                        0.02703102589546778,
                        0.03146698106206734,
                        0.026674891224851106,
                        0.044767311581942304,
                        0.013256931946987696,
                        0.012106233643003509,
                        0.028063462225274987,
                        0.03781717830174223,
                        0.029800213082157318,
                        0.01955590570256651,
                        0.030571183551117036,
                        0.011138598008706256,
                        0.03821702774897556,
                        0.01723402063151358,
                        0.045145109117648165,
                        0.042444926849329954,
                        0.025609765089180295,
                        0.027894939837523048,
                        0.038186234421547685,
                        0.02995412408330926,
                        0.025579541942303365,
                        0.013682662577186139,
                        0.02779425870865514,
                        0.01738266027535182,
                        0.014069844101398098,
                        0.0539153936557954,
                        0.012013549621918808,
                        0.030212593693151806,
                        0.03026063304736439,
                        0.014458014369237715,
                        0.05339821024643468,
                        0.023544989351689374,
                        0.020437569315706703,
                        0.022899672516060815,
                        0.011844117297836243,
                        0.02679760063169628,
                        0.06063186096615498,
                        0.015512487108624837,
                        0.02095503108046958,
                        0.020865278884050518,
                        0.021026127177700797,
                        0.021785754632030703,
                        0.04022325209257218,
                        0.038546417266087096,
                        0.016818395959807376,
                        0.036336027788238016,
                        0.04432973953575356
                      ],
                      "xaxis": "x",
                      "y": [
                        -8.63774662489547,
                        -18.571428571428573,
                        17.981352650719863,
                        13.525951961662017,
                        3.3444143917035403,
                        -2.9045055604671317,
                        8.626647128955414,
                        13.179256060113318,
                        -2.0269308045889463,
                        14.758288323548246,
                        -27.51121678377296,
                        5.974468151185235,
                        26.956403835359012,
                        2.945135050336972,
                        23.428171757621435,
                        22.052211102493164,
                        4.774886953324846,
                        20.03359072895881,
                        33.43656662870135,
                        19.36563034200632,
                        -5.661263482943187,
                        5.879419781988978,
                        15.184456449899258,
                        -4.271437449347371,
                        11.062468841420966,
                        -37.81229553258411,
                        16.45074715413715,
                        7.348244301295705,
                        13.340763169897704,
                        12.961066620545624,
                        -2.6747468245942994,
                        -19.17748182670553,
                        -0.14824670958445893,
                        33.25487572427847,
                        2.086716111744138,
                        11.981437304648733,
                        -7.553817034646573,
                        13.32345512644643,
                        7.053800570577201,
                        0.5124363146687302,
                        5.9211922388379525,
                        -4.062008893275159,
                        8.147696988571067,
                        38.899236323789445,
                        -10.644510946605765,
                        -10.553524023852841,
                        24.450680968704997,
                        21.171438852898707,
                        7.989740982796702,
                        -0.6786584959310163,
                        -1.724941051825828,
                        37.231074299712255,
                        13.34814327392692,
                        -3.2818055083671456,
                        21.119857745741616,
                        19.52218646671535,
                        8.259940288371633,
                        9.681615264764798,
                        6.009892525155199,
                        10.842041668845198,
                        18.963969262161243,
                        -4.087045002550222,
                        13.988996437817095,
                        48.458548878919125,
                        -16.660640105090856,
                        -0.10141783613232798,
                        -2.94001166323822,
                        23.36011260251281,
                        4.501069457659372,
                        8.479059590579743,
                        17.52182938048284,
                        -17.7676991699521,
                        1.3030550100302074,
                        18.0740492008656,
                        30.167599466173773,
                        10.007214852662381,
                        -18.306950021340075,
                        -5.61254911946756,
                        -1.855456117671576,
                        -42.20758652269464,
                        35.38059640266504,
                        16.526644199303174,
                        -6.673930751690961,
                        0.03620064133650371,
                        0.7287518072214919,
                        -40.7905067907684,
                        0.7919410740474243,
                        4.190029999391406,
                        1.351569371640958,
                        -2.9082453382276925,
                        16.557951355553364,
                        -20.669458631403113,
                        8.479741867782616,
                        7.707234357883275,
                        -8.385183084825986,
                        -34.37334752750068
                      ],
                      "yaxis": "y"
                    },
                    {
                      "hovertemplate": "<b>%{hovertext}</b><br><br>Tracking=magenta<br>quarter=2022Q4<br>Std dev=%{x}<br>Pct Returns=%{y}<br>index=%{text}<extra></extra>",
                      "hovertext": [
                        "ALGN",
                        "LCID",
                        "META",
                        "NVDA",
                        "TSLA"
                      ],
                      "legendgroup": "magenta",
                      "marker": {
                        "color": "#EF553B",
                        "symbol": "circle"
                      },
                      "mode": "markers+text",
                      "name": "magenta",
                      "orientation": "v",
                      "showlegend": true,
                      "text": [
                        "ALGN",
                        "LCID",
                        "META",
                        "NVDA",
                        "TSLA"
                      ],
                      "type": "scatter",
                      "x": [
                        0.042252353537316635,
                        0.04738481776828739,
                        0.04551458335001079,
                        0.03927373707672724,
                        0.04258966560999519
                      ],
                      "xaxis": "x",
                      "y": [
                        -2.1981105113060027,
                        -51.52590596351698,
                        -13.180870205621014,
                        16.82974993031981,
                        -49.18316691139062
                      ],
                      "yaxis": "y"
                    }
                  ],
                  "name": "2022Q4"
                },
                {
                  "data": [
                    {
                      "hovertemplate": "<b>%{hovertext}</b><br><br>Tracking=steelblue<br>quarter=2023Q1<br>Std dev=%{x}<br>Pct Returns=%{y}<br>index=%{text}<extra></extra>",
                      "hovertext": [
                        "AAPL",
                        "ABNB",
                        "ADBE",
                        "ADI",
                        "ADP",
                        "ADSK",
                        "AEP",
                        "AMAT",
                        "AMD",
                        "AMGN",
                        "AMZN",
                        "ANSS",
                        "ASML",
                        "ATVI",
                        "AVGO",
                        "AZN",
                        "BIIB",
                        "BKNG",
                        "BKR",
                        "BMRN",
                        "CDNS",
                        "CHTR",
                        "CMCSA",
                        "COST",
                        "CPRT",
                        "CRWD",
                        "CSCO",
                        "CSGP",
                        "CSX",
                        "CTAS",
                        "CTSH",
                        "DDOG",
                        "DLTR",
                        "DXCM",
                        "EA",
                        "EBAY",
                        "ENPH",
                        "EXC",
                        "FANG",
                        "FAST",
                        "FISV",
                        "FTNT",
                        "GFS",
                        "GILD",
                        "GOOG",
                        "GOOGL",
                        "HON",
                        "IDXX",
                        "ILMN",
                        "INTC",
                        "INTU",
                        "ISRG",
                        "JD",
                        "KDP",
                        "KHC",
                        "KLAC",
                        "LRCX",
                        "LULU",
                        "MAR",
                        "MCHP",
                        "MDLZ",
                        "MELI",
                        "MNST",
                        "MRNA",
                        "MRVL",
                        "MSFT",
                        "MU",
                        "NFLX",
                        "NXPI",
                        "ODFL",
                        "ORLY",
                        "PANW",
                        "PAYX",
                        "PCAR",
                        "PDD",
                        "PEP",
                        "PYPL",
                        "QCOM",
                        "REGN",
                        "RIVN",
                        "ROST",
                        "SBUX",
                        "SGEN",
                        "SIRI",
                        "SNPS",
                        "TEAM",
                        "TMUS",
                        "TXN",
                        "VRSK",
                        "VRTX",
                        "WBA",
                        "WBD",
                        "WDAY",
                        "XEL",
                        "ZM",
                        "ZS"
                      ],
                      "legendgroup": "steelblue",
                      "marker": {
                        "color": "#636efa",
                        "symbol": "circle"
                      },
                      "mode": "markers+text",
                      "name": "steelblue",
                      "orientation": "v",
                      "showlegend": true,
                      "text": [
                        "AAPL",
                        "ABNB",
                        "ADBE",
                        "ADI",
                        "ADP",
                        "ADSK",
                        "AEP",
                        "AMAT",
                        "AMD",
                        "AMGN",
                        "AMZN",
                        "ANSS",
                        "ASML",
                        "ATVI",
                        "AVGO",
                        "AZN",
                        "BIIB",
                        "BKNG",
                        "BKR",
                        "BMRN",
                        "CDNS",
                        "CHTR",
                        "CMCSA",
                        "COST",
                        "CPRT",
                        "CRWD",
                        "CSCO",
                        "CSGP",
                        "CSX",
                        "CTAS",
                        "CTSH",
                        "DDOG",
                        "DLTR",
                        "DXCM",
                        "EA",
                        "EBAY",
                        "ENPH",
                        "EXC",
                        "FANG",
                        "FAST",
                        "FISV",
                        "FTNT",
                        "GFS",
                        "GILD",
                        "GOOG",
                        "GOOGL",
                        "HON",
                        "IDXX",
                        "ILMN",
                        "INTC",
                        "INTU",
                        "ISRG",
                        "JD",
                        "KDP",
                        "KHC",
                        "KLAC",
                        "LRCX",
                        "LULU",
                        "MAR",
                        "MCHP",
                        "MDLZ",
                        "MELI",
                        "MNST",
                        "MRNA",
                        "MRVL",
                        "MSFT",
                        "MU",
                        "NFLX",
                        "NXPI",
                        "ODFL",
                        "ORLY",
                        "PANW",
                        "PAYX",
                        "PCAR",
                        "PDD",
                        "PEP",
                        "PYPL",
                        "QCOM",
                        "REGN",
                        "RIVN",
                        "ROST",
                        "SBUX",
                        "SGEN",
                        "SIRI",
                        "SNPS",
                        "TEAM",
                        "TMUS",
                        "TXN",
                        "VRSK",
                        "VRTX",
                        "WBA",
                        "WBD",
                        "WDAY",
                        "XEL",
                        "ZM",
                        "ZS"
                      ],
                      "type": "scatter",
                      "x": [
                        0.014467421556156686,
                        0.033090764355116514,
                        0.02231630746681832,
                        0.01770646813918124,
                        0.013934258308982117,
                        0.026667610747816057,
                        0.014614875331524295,
                        0.02492502010541506,
                        0.032673415257655866,
                        0.012883193887696482,
                        0.0246035455808255,
                        0.021563540526036033,
                        0.02265387132848418,
                        0.016585013405917972,
                        0.01646087495782002,
                        0.012932860245677934,
                        0.013994813475633448,
                        0.015342141023799058,
                        0.021338523049464216,
                        0.021052431313107897,
                        0.0179415649013565,
                        0.018791167916159392,
                        0.015006431886039458,
                        0.014799208088053599,
                        0.014006291223388255,
                        0.02960614653020647,
                        0.013407547641459837,
                        0.017621329959127376,
                        0.01615357011610557,
                        0.013683542297914379,
                        0.01777210726370865,
                        0.03957610292679476,
                        0.016493287246079145,
                        0.02706582841033716,
                        0.01609627388188971,
                        0.01930198941221272,
                        0.033940420240506704,
                        0.013716340375300673,
                        0.023925549506208246,
                        0.017466928160399,
                        0.020070637695828845,
                        0.023077545332917403,
                        0.027167067502907198,
                        0.014663885480124395,
                        0.02495279801841078,
                        0.02469680581738387,
                        0.013491105177228778,
                        0.022112685802024527,
                        0.038532644329866625,
                        0.025976603344239447,
                        0.022959328268885935,
                        0.019614419455445457,
                        0.03695272399358717,
                        0.009665470437261507,
                        0.012734462282075294,
                        0.023648336480780355,
                        0.02520884380262273,
                        0.026139762829507935,
                        0.01711667435162681,
                        0.021419608371479406,
                        0.011090149594105198,
                        0.02532113854633387,
                        0.012552851250751404,
                        0.025739308410699494,
                        0.03500135087081037,
                        0.019315361663813643,
                        0.02577308274245013,
                        0.02598649344309306,
                        0.021337013809071763,
                        0.022975764378083584,
                        0.013941257600185048,
                        0.023123703241484748,
                        0.016301036879015556,
                        0.01807238228069596,
                        0.03999307691069804,
                        0.009366408080612206,
                        0.020626182902305522,
                        0.022048114436697682,
                        0.019001970553987012,
                        0.0535288650125603,
                        0.012637967283046368,
                        0.013455504768859653,
                        0.0318025730193768,
                        0.02350442932001251,
                        0.01707149845875328,
                        0.036548461823631126,
                        0.012220780283277709,
                        0.015852428073821413,
                        0.014556634407547571,
                        0.015493623899316421,
                        0.017256980900816166,
                        0.03359581353078141,
                        0.02052749962384928,
                        0.014377841840473958,
                        0.030520174477453064,
                        0.036124833722297967
                      ],
                      "xaxis": "x",
                      "y": [
                        32.04747283189588,
                        46.52532307429907,
                        14.380262305149502,
                        21.96851846347152,
                        -5.793650342700498,
                        12.427766958766243,
                        -3.200857165629677,
                        27.279703046223837,
                        53.09279486950005,
                        -6.79077205976657,
                        20.356561737155,
                        39.45691780260905,
                        24.13445106158287,
                        11.32934364677728,
                        16.744503807111393,
                        1.568478420080525,
                        1.9807041777391718,
                        30.51849774841986,
                        0.9939165172600292,
                        -3.349570347021048,
                        31.60235350859913,
                        4.692897537750071,
                        6.578577938330383,
                        9.807390006034828,
                        22.37227498344337,
                        32.90084830476447,
                        9.924309215718734,
                        -11.332907764109933,
                        -2.6959605626001033,
                        3.3142740479778277,
                        6.258652157729805,
                        0.7906885187607552,
                        2.345649988430256,
                        1.2638341373800357,
                        -1.745643577086894,
                        5.864871787077005,
                        -16.987090598089598,
                        -2.1001916235185374,
                        5.027121382220073,
                        14.59087021751852,
                        11.678687680808022,
                        36.97444034924449,
                        39.61315133464598,
                        -1.9087797736090855,
                        15.942032930066944,
                        16.39362675054663,
                        -10.344237173995703,
                        23.169373794735712,
                        15.77139876768962,
                        23.711481381114687,
                        14.201015015417848,
                        -3.8248704872748265,
                        -23.854962084661928,
                        0.3662194317033208,
                        -4.173834016328938,
                        6.3496153364566075,
                        28.420004100043123,
                        12.6198271205366,
                        12.643133089861122,
                        21.759570903650133,
                        5.816666303844877,
                        59.55019089048189,
                        6.612709206891605,
                        -14.196325427276344,
                        20.508687612543916,
                        20.636983270278993,
                        19.793530736789442,
                        17.131716117315793,
                        20.972098269965244,
                        20.78389280615997,
                        0.9824923938367791,
                        44.268696205052564,
                        -0.3858078988249609,
                        11.93473337061975,
                        -10.209390013065553,
                        2.2974780229598815,
                        1.8235459599912025,
                        19.738179695565012,
                        14.046388652155423,
                        -10.72664702412917,
                        -8.078736049093498,
                        3.790314246351187,
                        57.319351998219695,
                        -31.106738258938808,
                        20.82395171715795,
                        35.31225151695281,
                        4.171463846248817,
                        14.78192297968682,
                        8.391313065728026,
                        10.156639195297036,
                        -5.7874728000449815,
                        58.28092706340785,
                        21.96042860481783,
                        -2.9807995298910264,
                        10.77106552855243,
                        6.025954480924229
                      ],
                      "yaxis": "y"
                    },
                    {
                      "hovertemplate": "<b>%{hovertext}</b><br><br>Tracking=magenta<br>quarter=2023Q1<br>Std dev=%{x}<br>Pct Returns=%{y}<br>index=%{text}<extra></extra>",
                      "hovertext": [
                        "ALGN",
                        "LCID",
                        "META",
                        "NVDA",
                        "TSLA"
                      ],
                      "legendgroup": "magenta",
                      "marker": {
                        "color": "#EF553B",
                        "symbol": "circle"
                      },
                      "mode": "markers+text",
                      "name": "magenta",
                      "orientation": "v",
                      "showlegend": true,
                      "text": [
                        "ALGN",
                        "LCID",
                        "META",
                        "NVDA",
                        "TSLA"
                      ],
                      "type": "scatter",
                      "x": [
                        0.04365464664348815,
                        0.0735476852447973,
                        0.0369424480262205,
                        0.03440644605903108,
                        0.040175507851242624
                      ],
                      "xaxis": "x",
                      "y": [
                        57.40532154225041,
                        30.307939423597396,
                        69.90540810564161,
                        94.0741704189337,
                        91.91490253677725
                      ],
                      "yaxis": "y"
                    }
                  ],
                  "name": "2023Q1"
                }
              ],
              "layout": {
                "annotations": [
                  {
                    "font": {
                      "color": "black",
                      "size": 10
                    },
                    "showarrow": false,
                    "text": "[NEGATIVE RETURN REGION]",
                    "x": 1,
                    "xanchor": "right",
                    "xref": "x domain",
                    "y": 0,
                    "yanchor": "top",
                    "yref": "y"
                  }
                ],
                "height": 600,
                "legend": {
                  "title": {
                    "text": "Tracking"
                  },
                  "tracegroupgap": 0
                },
                "margin": {
                  "t": 60
                },
                "shapes": [
                  {
                    "fillcolor": "red",
                    "line": {
                      "width": 0
                    },
                    "opacity": 0.1,
                    "type": "rect",
                    "x0": 0,
                    "x1": 1,
                    "xref": "x domain",
                    "y0": 0,
                    "y1": -60,
                    "yref": "y"
                  }
                ],
                "showlegend": false,
                "sliders": [
                  {
                    "active": 0,
                    "currentvalue": {
                      "prefix": "quarter="
                    },
                    "len": 0.9,
                    "pad": {
                      "b": 10,
                      "t": 60
                    },
                    "steps": [
                      {
                        "args": [
                          [
                            "2022Q2"
                          ],
                          {
                            "frame": {
                              "duration": 0,
                              "redraw": false
                            },
                            "fromcurrent": true,
                            "mode": "immediate",
                            "transition": {
                              "duration": 0,
                              "easing": "linear"
                            }
                          }
                        ],
                        "label": "2022Q2",
                        "method": "animate"
                      },
                      {
                        "args": [
                          [
                            "2022Q3"
                          ],
                          {
                            "frame": {
                              "duration": 0,
                              "redraw": false
                            },
                            "fromcurrent": true,
                            "mode": "immediate",
                            "transition": {
                              "duration": 0,
                              "easing": "linear"
                            }
                          }
                        ],
                        "label": "2022Q3",
                        "method": "animate"
                      },
                      {
                        "args": [
                          [
                            "2022Q4"
                          ],
                          {
                            "frame": {
                              "duration": 0,
                              "redraw": false
                            },
                            "fromcurrent": true,
                            "mode": "immediate",
                            "transition": {
                              "duration": 0,
                              "easing": "linear"
                            }
                          }
                        ],
                        "label": "2022Q4",
                        "method": "animate"
                      },
                      {
                        "args": [
                          [
                            "2023Q1"
                          ],
                          {
                            "frame": {
                              "duration": 0,
                              "redraw": false
                            },
                            "fromcurrent": true,
                            "mode": "immediate",
                            "transition": {
                              "duration": 0,
                              "easing": "linear"
                            }
                          }
                        ],
                        "label": "2023Q1",
                        "method": "animate"
                      }
                    ],
                    "x": 0.1,
                    "xanchor": "left",
                    "y": 0,
                    "yanchor": "top"
                  }
                ],
                "template": {
                  "data": {
                    "bar": [
                      {
                        "error_x": {
                          "color": "#2a3f5f"
                        },
                        "error_y": {
                          "color": "#2a3f5f"
                        },
                        "marker": {
                          "line": {
                            "color": "#E5ECF6",
                            "width": 0.5
                          },
                          "pattern": {
                            "fillmode": "overlay",
                            "size": 10,
                            "solidity": 0.2
                          }
                        },
                        "type": "bar"
                      }
                    ],
                    "barpolar": [
                      {
                        "marker": {
                          "line": {
                            "color": "#E5ECF6",
                            "width": 0.5
                          },
                          "pattern": {
                            "fillmode": "overlay",
                            "size": 10,
                            "solidity": 0.2
                          }
                        },
                        "type": "barpolar"
                      }
                    ],
                    "carpet": [
                      {
                        "aaxis": {
                          "endlinecolor": "#2a3f5f",
                          "gridcolor": "white",
                          "linecolor": "white",
                          "minorgridcolor": "white",
                          "startlinecolor": "#2a3f5f"
                        },
                        "baxis": {
                          "endlinecolor": "#2a3f5f",
                          "gridcolor": "white",
                          "linecolor": "white",
                          "minorgridcolor": "white",
                          "startlinecolor": "#2a3f5f"
                        },
                        "type": "carpet"
                      }
                    ],
                    "choropleth": [
                      {
                        "colorbar": {
                          "outlinewidth": 0,
                          "ticks": ""
                        },
                        "type": "choropleth"
                      }
                    ],
                    "contour": [
                      {
                        "colorbar": {
                          "outlinewidth": 0,
                          "ticks": ""
                        },
                        "colorscale": [
                          [
                            0,
                            "#0d0887"
                          ],
                          [
                            0.1111111111111111,
                            "#46039f"
                          ],
                          [
                            0.2222222222222222,
                            "#7201a8"
                          ],
                          [
                            0.3333333333333333,
                            "#9c179e"
                          ],
                          [
                            0.4444444444444444,
                            "#bd3786"
                          ],
                          [
                            0.5555555555555556,
                            "#d8576b"
                          ],
                          [
                            0.6666666666666666,
                            "#ed7953"
                          ],
                          [
                            0.7777777777777778,
                            "#fb9f3a"
                          ],
                          [
                            0.8888888888888888,
                            "#fdca26"
                          ],
                          [
                            1,
                            "#f0f921"
                          ]
                        ],
                        "type": "contour"
                      }
                    ],
                    "contourcarpet": [
                      {
                        "colorbar": {
                          "outlinewidth": 0,
                          "ticks": ""
                        },
                        "type": "contourcarpet"
                      }
                    ],
                    "heatmap": [
                      {
                        "colorbar": {
                          "outlinewidth": 0,
                          "ticks": ""
                        },
                        "colorscale": [
                          [
                            0,
                            "#0d0887"
                          ],
                          [
                            0.1111111111111111,
                            "#46039f"
                          ],
                          [
                            0.2222222222222222,
                            "#7201a8"
                          ],
                          [
                            0.3333333333333333,
                            "#9c179e"
                          ],
                          [
                            0.4444444444444444,
                            "#bd3786"
                          ],
                          [
                            0.5555555555555556,
                            "#d8576b"
                          ],
                          [
                            0.6666666666666666,
                            "#ed7953"
                          ],
                          [
                            0.7777777777777778,
                            "#fb9f3a"
                          ],
                          [
                            0.8888888888888888,
                            "#fdca26"
                          ],
                          [
                            1,
                            "#f0f921"
                          ]
                        ],
                        "type": "heatmap"
                      }
                    ],
                    "heatmapgl": [
                      {
                        "colorbar": {
                          "outlinewidth": 0,
                          "ticks": ""
                        },
                        "colorscale": [
                          [
                            0,
                            "#0d0887"
                          ],
                          [
                            0.1111111111111111,
                            "#46039f"
                          ],
                          [
                            0.2222222222222222,
                            "#7201a8"
                          ],
                          [
                            0.3333333333333333,
                            "#9c179e"
                          ],
                          [
                            0.4444444444444444,
                            "#bd3786"
                          ],
                          [
                            0.5555555555555556,
                            "#d8576b"
                          ],
                          [
                            0.6666666666666666,
                            "#ed7953"
                          ],
                          [
                            0.7777777777777778,
                            "#fb9f3a"
                          ],
                          [
                            0.8888888888888888,
                            "#fdca26"
                          ],
                          [
                            1,
                            "#f0f921"
                          ]
                        ],
                        "type": "heatmapgl"
                      }
                    ],
                    "histogram": [
                      {
                        "marker": {
                          "pattern": {
                            "fillmode": "overlay",
                            "size": 10,
                            "solidity": 0.2
                          }
                        },
                        "type": "histogram"
                      }
                    ],
                    "histogram2d": [
                      {
                        "colorbar": {
                          "outlinewidth": 0,
                          "ticks": ""
                        },
                        "colorscale": [
                          [
                            0,
                            "#0d0887"
                          ],
                          [
                            0.1111111111111111,
                            "#46039f"
                          ],
                          [
                            0.2222222222222222,
                            "#7201a8"
                          ],
                          [
                            0.3333333333333333,
                            "#9c179e"
                          ],
                          [
                            0.4444444444444444,
                            "#bd3786"
                          ],
                          [
                            0.5555555555555556,
                            "#d8576b"
                          ],
                          [
                            0.6666666666666666,
                            "#ed7953"
                          ],
                          [
                            0.7777777777777778,
                            "#fb9f3a"
                          ],
                          [
                            0.8888888888888888,
                            "#fdca26"
                          ],
                          [
                            1,
                            "#f0f921"
                          ]
                        ],
                        "type": "histogram2d"
                      }
                    ],
                    "histogram2dcontour": [
                      {
                        "colorbar": {
                          "outlinewidth": 0,
                          "ticks": ""
                        },
                        "colorscale": [
                          [
                            0,
                            "#0d0887"
                          ],
                          [
                            0.1111111111111111,
                            "#46039f"
                          ],
                          [
                            0.2222222222222222,
                            "#7201a8"
                          ],
                          [
                            0.3333333333333333,
                            "#9c179e"
                          ],
                          [
                            0.4444444444444444,
                            "#bd3786"
                          ],
                          [
                            0.5555555555555556,
                            "#d8576b"
                          ],
                          [
                            0.6666666666666666,
                            "#ed7953"
                          ],
                          [
                            0.7777777777777778,
                            "#fb9f3a"
                          ],
                          [
                            0.8888888888888888,
                            "#fdca26"
                          ],
                          [
                            1,
                            "#f0f921"
                          ]
                        ],
                        "type": "histogram2dcontour"
                      }
                    ],
                    "mesh3d": [
                      {
                        "colorbar": {
                          "outlinewidth": 0,
                          "ticks": ""
                        },
                        "type": "mesh3d"
                      }
                    ],
                    "parcoords": [
                      {
                        "line": {
                          "colorbar": {
                            "outlinewidth": 0,
                            "ticks": ""
                          }
                        },
                        "type": "parcoords"
                      }
                    ],
                    "pie": [
                      {
                        "automargin": true,
                        "type": "pie"
                      }
                    ],
                    "scatter": [
                      {
                        "marker": {
                          "colorbar": {
                            "outlinewidth": 0,
                            "ticks": ""
                          }
                        },
                        "type": "scatter"
                      }
                    ],
                    "scatter3d": [
                      {
                        "line": {
                          "colorbar": {
                            "outlinewidth": 0,
                            "ticks": ""
                          }
                        },
                        "marker": {
                          "colorbar": {
                            "outlinewidth": 0,
                            "ticks": ""
                          }
                        },
                        "type": "scatter3d"
                      }
                    ],
                    "scattercarpet": [
                      {
                        "marker": {
                          "colorbar": {
                            "outlinewidth": 0,
                            "ticks": ""
                          }
                        },
                        "type": "scattercarpet"
                      }
                    ],
                    "scattergeo": [
                      {
                        "marker": {
                          "colorbar": {
                            "outlinewidth": 0,
                            "ticks": ""
                          }
                        },
                        "type": "scattergeo"
                      }
                    ],
                    "scattergl": [
                      {
                        "marker": {
                          "colorbar": {
                            "outlinewidth": 0,
                            "ticks": ""
                          }
                        },
                        "type": "scattergl"
                      }
                    ],
                    "scattermapbox": [
                      {
                        "marker": {
                          "colorbar": {
                            "outlinewidth": 0,
                            "ticks": ""
                          }
                        },
                        "type": "scattermapbox"
                      }
                    ],
                    "scatterpolar": [
                      {
                        "marker": {
                          "colorbar": {
                            "outlinewidth": 0,
                            "ticks": ""
                          }
                        },
                        "type": "scatterpolar"
                      }
                    ],
                    "scatterpolargl": [
                      {
                        "marker": {
                          "colorbar": {
                            "outlinewidth": 0,
                            "ticks": ""
                          }
                        },
                        "type": "scatterpolargl"
                      }
                    ],
                    "scatterternary": [
                      {
                        "marker": {
                          "colorbar": {
                            "outlinewidth": 0,
                            "ticks": ""
                          }
                        },
                        "type": "scatterternary"
                      }
                    ],
                    "surface": [
                      {
                        "colorbar": {
                          "outlinewidth": 0,
                          "ticks": ""
                        },
                        "colorscale": [
                          [
                            0,
                            "#0d0887"
                          ],
                          [
                            0.1111111111111111,
                            "#46039f"
                          ],
                          [
                            0.2222222222222222,
                            "#7201a8"
                          ],
                          [
                            0.3333333333333333,
                            "#9c179e"
                          ],
                          [
                            0.4444444444444444,
                            "#bd3786"
                          ],
                          [
                            0.5555555555555556,
                            "#d8576b"
                          ],
                          [
                            0.6666666666666666,
                            "#ed7953"
                          ],
                          [
                            0.7777777777777778,
                            "#fb9f3a"
                          ],
                          [
                            0.8888888888888888,
                            "#fdca26"
                          ],
                          [
                            1,
                            "#f0f921"
                          ]
                        ],
                        "type": "surface"
                      }
                    ],
                    "table": [
                      {
                        "cells": {
                          "fill": {
                            "color": "#EBF0F8"
                          },
                          "line": {
                            "color": "white"
                          }
                        },
                        "header": {
                          "fill": {
                            "color": "#C8D4E3"
                          },
                          "line": {
                            "color": "white"
                          }
                        },
                        "type": "table"
                      }
                    ]
                  },
                  "layout": {
                    "annotationdefaults": {
                      "arrowcolor": "#2a3f5f",
                      "arrowhead": 0,
                      "arrowwidth": 1
                    },
                    "autotypenumbers": "strict",
                    "coloraxis": {
                      "colorbar": {
                        "outlinewidth": 0,
                        "ticks": ""
                      }
                    },
                    "colorscale": {
                      "diverging": [
                        [
                          0,
                          "#8e0152"
                        ],
                        [
                          0.1,
                          "#c51b7d"
                        ],
                        [
                          0.2,
                          "#de77ae"
                        ],
                        [
                          0.3,
                          "#f1b6da"
                        ],
                        [
                          0.4,
                          "#fde0ef"
                        ],
                        [
                          0.5,
                          "#f7f7f7"
                        ],
                        [
                          0.6,
                          "#e6f5d0"
                        ],
                        [
                          0.7,
                          "#b8e186"
                        ],
                        [
                          0.8,
                          "#7fbc41"
                        ],
                        [
                          0.9,
                          "#4d9221"
                        ],
                        [
                          1,
                          "#276419"
                        ]
                      ],
                      "sequential": [
                        [
                          0,
                          "#0d0887"
                        ],
                        [
                          0.1111111111111111,
                          "#46039f"
                        ],
                        [
                          0.2222222222222222,
                          "#7201a8"
                        ],
                        [
                          0.3333333333333333,
                          "#9c179e"
                        ],
                        [
                          0.4444444444444444,
                          "#bd3786"
                        ],
                        [
                          0.5555555555555556,
                          "#d8576b"
                        ],
                        [
                          0.6666666666666666,
                          "#ed7953"
                        ],
                        [
                          0.7777777777777778,
                          "#fb9f3a"
                        ],
                        [
                          0.8888888888888888,
                          "#fdca26"
                        ],
                        [
                          1,
                          "#f0f921"
                        ]
                      ],
                      "sequentialminus": [
                        [
                          0,
                          "#0d0887"
                        ],
                        [
                          0.1111111111111111,
                          "#46039f"
                        ],
                        [
                          0.2222222222222222,
                          "#7201a8"
                        ],
                        [
                          0.3333333333333333,
                          "#9c179e"
                        ],
                        [
                          0.4444444444444444,
                          "#bd3786"
                        ],
                        [
                          0.5555555555555556,
                          "#d8576b"
                        ],
                        [
                          0.6666666666666666,
                          "#ed7953"
                        ],
                        [
                          0.7777777777777778,
                          "#fb9f3a"
                        ],
                        [
                          0.8888888888888888,
                          "#fdca26"
                        ],
                        [
                          1,
                          "#f0f921"
                        ]
                      ]
                    },
                    "colorway": [
                      "#636efa",
                      "#EF553B",
                      "#00cc96",
                      "#ab63fa",
                      "#FFA15A",
                      "#19d3f3",
                      "#FF6692",
                      "#B6E880",
                      "#FF97FF",
                      "#FECB52"
                    ],
                    "font": {
                      "color": "#2a3f5f"
                    },
                    "geo": {
                      "bgcolor": "white",
                      "lakecolor": "white",
                      "landcolor": "#E5ECF6",
                      "showlakes": true,
                      "showland": true,
                      "subunitcolor": "white"
                    },
                    "hoverlabel": {
                      "align": "left"
                    },
                    "hovermode": "closest",
                    "mapbox": {
                      "style": "light"
                    },
                    "paper_bgcolor": "white",
                    "plot_bgcolor": "#E5ECF6",
                    "polar": {
                      "angularaxis": {
                        "gridcolor": "white",
                        "linecolor": "white",
                        "ticks": ""
                      },
                      "bgcolor": "#E5ECF6",
                      "radialaxis": {
                        "gridcolor": "white",
                        "linecolor": "white",
                        "ticks": ""
                      }
                    },
                    "scene": {
                      "xaxis": {
                        "backgroundcolor": "#E5ECF6",
                        "gridcolor": "white",
                        "gridwidth": 2,
                        "linecolor": "white",
                        "showbackground": true,
                        "ticks": "",
                        "zerolinecolor": "white"
                      },
                      "yaxis": {
                        "backgroundcolor": "#E5ECF6",
                        "gridcolor": "white",
                        "gridwidth": 2,
                        "linecolor": "white",
                        "showbackground": true,
                        "ticks": "",
                        "zerolinecolor": "white"
                      },
                      "zaxis": {
                        "backgroundcolor": "#E5ECF6",
                        "gridcolor": "white",
                        "gridwidth": 2,
                        "linecolor": "white",
                        "showbackground": true,
                        "ticks": "",
                        "zerolinecolor": "white"
                      }
                    },
                    "shapedefaults": {
                      "line": {
                        "color": "#2a3f5f"
                      }
                    },
                    "ternary": {
                      "aaxis": {
                        "gridcolor": "white",
                        "linecolor": "white",
                        "ticks": ""
                      },
                      "baxis": {
                        "gridcolor": "white",
                        "linecolor": "white",
                        "ticks": ""
                      },
                      "bgcolor": "#E5ECF6",
                      "caxis": {
                        "gridcolor": "white",
                        "linecolor": "white",
                        "ticks": ""
                      }
                    },
                    "title": {
                      "x": 0.05
                    },
                    "xaxis": {
                      "automargin": true,
                      "gridcolor": "white",
                      "linecolor": "white",
                      "ticks": "",
                      "title": {
                        "standoff": 15
                      },
                      "zerolinecolor": "white",
                      "zerolinewidth": 2
                    },
                    "yaxis": {
                      "automargin": true,
                      "gridcolor": "white",
                      "linecolor": "white",
                      "ticks": "",
                      "title": {
                        "standoff": 15
                      },
                      "zerolinecolor": "white",
                      "zerolinewidth": 2
                    }
                  }
                },
                "title": {
                  "text": "Nasdaq 100",
                  "x": 0.5
                },
                "updatemenus": [
                  {
                    "buttons": [
                      {
                        "args": [
                          null,
                          {
                            "frame": {
                              "duration": 2750,
                              "redraw": false
                            },
                            "fromcurrent": true,
                            "mode": "immediate",
                            "transition": {
                              "duration": 1500,
                              "easing": "linear"
                            }
                          }
                        ],
                        "label": "&#9654;",
                        "method": "animate"
                      },
                      {
                        "args": [
                          [
                            null
                          ],
                          {
                            "frame": {
                              "duration": 0,
                              "redraw": false
                            },
                            "fromcurrent": true,
                            "mode": "immediate",
                            "transition": {
                              "duration": 0,
                              "easing": "linear"
                            }
                          }
                        ],
                        "label": "&#9724;",
                        "method": "animate"
                      }
                    ],
                    "direction": "left",
                    "pad": {
                      "r": 10,
                      "t": 70
                    },
                    "showactive": false,
                    "type": "buttons",
                    "x": 0.1,
                    "xanchor": "right",
                    "y": 0,
                    "yanchor": "top"
                  }
                ],
                "width": 700,
                "xaxis": {
                  "anchor": "y",
                  "domain": [
                    0,
                    1
                  ],
                  "range": [
                    0,
                    0.09
                  ],
                  "title": {
                    "text": "Std dev"
                  }
                },
                "yaxis": {
                  "anchor": "x",
                  "domain": [
                    0,
                    1
                  ],
                  "range": [
                    -60,
                    110
                  ],
                  "title": {
                    "text": "Pct Returns"
                  }
                }
              }
            },
            "text/html": [
              "<div>                            <div id=\"34d2acbf-4d6f-492d-802b-44943e9a4d57\" class=\"plotly-graph-div\" style=\"height:600px; width:700px;\"></div>            <script type=\"text/javascript\">                require([\"plotly\"], function(Plotly) {                    window.PLOTLYENV=window.PLOTLYENV || {};                                    if (document.getElementById(\"34d2acbf-4d6f-492d-802b-44943e9a4d57\")) {                    Plotly.newPlot(                        \"34d2acbf-4d6f-492d-802b-44943e9a4d57\",                        [{\"hovertemplate\":\"<b>%{hovertext}</b><br><br>Tracking=steelblue<br>quarter=2022Q2<br>Std dev=%{x}<br>Pct Returns=%{y}<br>index=%{text}<extra></extra>\",\"hovertext\":[\"AAPL\",\"ABNB\",\"ADBE\",\"ADI\",\"ADP\",\"ADSK\",\"AEP\",\"AMAT\",\"AMD\",\"AMGN\",\"AMZN\",\"ANSS\",\"ASML\",\"ATVI\",\"AVGO\",\"AZN\",\"BIIB\",\"BKNG\",\"BKR\",\"BMRN\",\"CDNS\",\"CHTR\",\"CMCSA\",\"COST\",\"CPRT\",\"CRWD\",\"CSCO\",\"CSGP\",\"CSX\",\"CTAS\",\"CTSH\",\"DDOG\",\"DLTR\",\"DXCM\",\"EA\",\"EBAY\",\"ENPH\",\"EXC\",\"FANG\",\"FAST\",\"FISV\",\"FTNT\",\"GFS\",\"GILD\",\"GOOG\",\"GOOGL\",\"HON\",\"IDXX\",\"ILMN\",\"INTC\",\"INTU\",\"ISRG\",\"JD\",\"KDP\",\"KHC\",\"KLAC\",\"LRCX\",\"LULU\",\"MAR\",\"MCHP\",\"MDLZ\",\"MELI\",\"MNST\",\"MRNA\",\"MRVL\",\"MSFT\",\"MU\",\"NFLX\",\"NXPI\",\"ODFL\",\"ORLY\",\"PANW\",\"PAYX\",\"PCAR\",\"PDD\",\"PEP\",\"PYPL\",\"QCOM\",\"REGN\",\"RIVN\",\"ROST\",\"SBUX\",\"SGEN\",\"SIRI\",\"SNPS\",\"TEAM\",\"TMUS\",\"TXN\",\"VRSK\",\"VRTX\",\"WBA\",\"WBD\",\"WDAY\",\"XEL\",\"ZM\",\"ZS\"],\"legendgroup\":\"steelblue\",\"marker\":{\"color\":\"#636efa\",\"line\":{\"color\":\"white\",\"width\":2},\"size\":12,\"symbol\":\"circle\"},\"mode\":\"markers+text\",\"name\":\"steelblue\",\"orientation\":\"v\",\"showlegend\":true,\"text\":[\"AAPL\",\"ABNB\",\"ADBE\",\"ADI\",\"ADP\",\"ADSK\",\"AEP\",\"AMAT\",\"AMD\",\"AMGN\",\"AMZN\",\"ANSS\",\"ASML\",\"ATVI\",\"AVGO\",\"AZN\",\"BIIB\",\"BKNG\",\"BKR\",\"BMRN\",\"CDNS\",\"CHTR\",\"CMCSA\",\"COST\",\"CPRT\",\"CRWD\",\"CSCO\",\"CSGP\",\"CSX\",\"CTAS\",\"CTSH\",\"DDOG\",\"DLTR\",\"DXCM\",\"EA\",\"EBAY\",\"ENPH\",\"EXC\",\"FANG\",\"FAST\",\"FISV\",\"FTNT\",\"GFS\",\"GILD\",\"GOOG\",\"GOOGL\",\"HON\",\"IDXX\",\"ILMN\",\"INTC\",\"INTU\",\"ISRG\",\"JD\",\"KDP\",\"KHC\",\"KLAC\",\"LRCX\",\"LULU\",\"MAR\",\"MCHP\",\"MDLZ\",\"MELI\",\"MNST\",\"MRNA\",\"MRVL\",\"MSFT\",\"MU\",\"NFLX\",\"NXPI\",\"ODFL\",\"ORLY\",\"PANW\",\"PAYX\",\"PCAR\",\"PDD\",\"PEP\",\"PYPL\",\"QCOM\",\"REGN\",\"RIVN\",\"ROST\",\"SBUX\",\"SGEN\",\"SIRI\",\"SNPS\",\"TEAM\",\"TMUS\",\"TXN\",\"VRSK\",\"VRTX\",\"WBA\",\"WBD\",\"WDAY\",\"XEL\",\"ZM\",\"ZS\"],\"textposition\":\"top center\",\"type\":\"scatter\",\"x\":[0.025789519517375393,0.04456081346690636,0.02772840553490518,0.022862805675922353,0.019553117297859496,0.03682551343516094,0.014336943780504324,0.03322100895019325,0.04226524178935623,0.011630327511566575,0.036616198905550526,0.030313620195200806,0.03266516515531023,0.00909378097936573,0.02590230573156602,0.018593139225013634,0.023120991906641988,0.03089513454557952,0.029346512771396303,0.02683579297473697,0.02999860452074863,0.026095590510011146,0.01896963109254141,0.027761807231892192,0.023982779555191083,0.050544583530281094,0.024895154960336265,0.02695205741960074,0.017273930956818954,0.02046026520277844,0.025741717437719136,0.055192126933561646,0.03807119509688847,0.037805662452285,0.020349921837304205,0.028761370818495394,0.05379926871347974,0.017147844675131193,0.03644414554322757,0.02075761526404277,0.022970031025133654,0.03379804236066423,0.03504638725313697,0.014195017548002592,0.02564160247556486,0.025946532916818237,0.016217115906686057,0.029921583558387716,0.03830831531388092,0.02306933513180239,0.03653646165198595,0.03377818184807154,0.041143531997377435,0.01493017818234111,0.020479606791653202,0.033487374769956356,0.034234058184981465,0.03570450062469598,0.02965571921212598,0.030901098110315356,0.015789410347599852,0.05841367877372546,0.018886192372320167,0.04381241257869589,0.041737663457488826,0.024020715000084666,0.030195518890061317,0.05853174687485493,0.028376753211184796,0.03007008672624416,0.02712652005512245,0.033535494764713014,0.020153160429300307,0.01838013690616939,0.0639096433610367,0.015160346492651765,0.039202256146320995,0.03199620575504325,0.02093959349293602,0.0633225827356933,0.04021656092182972,0.028113018716039787,0.03625177064265044,0.017764776913208137,0.031143228359945298,0.054105007727513955,0.02089659019061344,0.01879084754479687,0.018504089328251948,0.024833340377956623,0.021039805920369248,0.04064875017910945,0.03361527802209335,0.013375968377676606,0.04454694728872839,0.05452358636403204],\"xaxis\":\"x\",\"y\":[-21.44978398993553,-48.52949785564077,-20.107379993432783,-11.242042485573965,-9.619842376756468,-19.282758104996432,-4.741515455297002,-28.418123033000693,-29.318791482495904,0.8780807121371933,-35.06358481912793,-24.392555635352682,-28.204928836164285,-3.0898205275954633,-21.87349248199925,-1.1076173294422735,-3.1853746259188047,-26.13532506440083,-20.34388609233054,4.541448537869354,-9.418586997297398,-16.584175172900164,-17.271568025368435,-16.594033758446017,-13.542327022389006,-26.0215084295348,-22.867410394044988,-8.469697200890744,-17.90393466950696,-11.649763930116505,-24.730072481411227,-37.954398785817894,-2.2454912731169276,-43.91707752327039,-2.7270463420196642,-27.4672880403419,-5.17266206617893,-4.230026849483004,-10.384060074229707,-15.881976993301594,-13.612969156103313,-16.551133888094714,-33.58577702033716,4.880788912746188,-22.26545847131223,-22.252864292633248,-10.880163427841467,-36.62727496401734,-49.33772912818599,-21.626031691454756,-20.242549989954128,-34.30974631776974,11.423746831914224,-6.962723301424339,-3.5150882943452135,-11.137446251500991,-18.625078128195184,-25.80829971145175,-21.54522124960981,-21.152654747252686,-1.7092571019084803,-47.973663534359986,12.84235572295129,-19.10639953229076,-38.69522125689042,-16.802998513829987,-27.335857037593463,-53.17696346544108,-18.263924416152967,-7.873836391803356,-5.344378182219888,-19.173309287214245,-17.459643702057736,-2.9930480141746205,44.90034472697948,-1.143254480112052,-40.13885537500564,-12.638643647388612,-14.92451529963515,-44.57364226467839,-22.20043878353718,-15.916460241417022,18.8394137730838,-6.6506305398500345,-9.337870247002153,-38.708096844976495,2.8907914791165448,-15.040235871578348,-19.00685117086442,5.8763911354889915,-12.573640728997463,-46.36291034866973,-41.33568439130942,-2.036366885293557,-8.515502209983932,-39.27541918286494],\"yaxis\":\"y\"},{\"hovertemplate\":\"<b>%{hovertext}</b><br><br>Tracking=magenta<br>quarter=2022Q2<br>Std dev=%{x}<br>Pct Returns=%{y}<br>index=%{text}<extra></extra>\",\"hovertext\":[\"ALGN\",\"LCID\",\"META\",\"NVDA\",\"TSLA\"],\"legendgroup\":\"magenta\",\"marker\":{\"color\":\"#EF553B\",\"line\":{\"color\":\"white\",\"width\":2},\"size\":12,\"symbol\":\"circle\"},\"mode\":\"markers+text\",\"name\":\"magenta\",\"orientation\":\"v\",\"showlegend\":true,\"text\":[\"ALGN\",\"LCID\",\"META\",\"NVDA\",\"TSLA\"],\"textposition\":\"top center\",\"type\":\"scatter\",\"x\":[0.03945988911247722,0.057245304412514374,0.04210088793484072,0.04384096463930173,0.047512200188423045],\"xaxis\":\"x\",\"y\":[-46.98371536761476,-30.10183144320646,-28.285525629132373,-43.23822745249613,-37.91017940567833],\"yaxis\":\"y\"}],                        {\"annotations\":[{\"font\":{\"color\":\"black\",\"size\":10},\"showarrow\":false,\"text\":\"[NEGATIVE RETURN REGION]\",\"x\":1,\"xanchor\":\"right\",\"xref\":\"x domain\",\"y\":0,\"yanchor\":\"top\",\"yref\":\"y\"}],\"height\":600,\"legend\":{\"title\":{\"text\":\"Tracking\"},\"tracegroupgap\":0},\"margin\":{\"t\":60},\"shapes\":[{\"fillcolor\":\"red\",\"line\":{\"width\":0},\"opacity\":0.1,\"type\":\"rect\",\"x0\":0,\"x1\":1,\"xref\":\"x domain\",\"y0\":0,\"y1\":-60,\"yref\":\"y\"}],\"showlegend\":false,\"sliders\":[{\"active\":0,\"currentvalue\":{\"prefix\":\"quarter=\"},\"len\":0.9,\"pad\":{\"b\":10,\"t\":60},\"steps\":[{\"args\":[[\"2022Q2\"],{\"frame\":{\"duration\":0,\"redraw\":false},\"fromcurrent\":true,\"mode\":\"immediate\",\"transition\":{\"duration\":0,\"easing\":\"linear\"}}],\"label\":\"2022Q2\",\"method\":\"animate\"},{\"args\":[[\"2022Q3\"],{\"frame\":{\"duration\":0,\"redraw\":false},\"fromcurrent\":true,\"mode\":\"immediate\",\"transition\":{\"duration\":0,\"easing\":\"linear\"}}],\"label\":\"2022Q3\",\"method\":\"animate\"},{\"args\":[[\"2022Q4\"],{\"frame\":{\"duration\":0,\"redraw\":false},\"fromcurrent\":true,\"mode\":\"immediate\",\"transition\":{\"duration\":0,\"easing\":\"linear\"}}],\"label\":\"2022Q4\",\"method\":\"animate\"},{\"args\":[[\"2023Q1\"],{\"frame\":{\"duration\":0,\"redraw\":false},\"fromcurrent\":true,\"mode\":\"immediate\",\"transition\":{\"duration\":0,\"easing\":\"linear\"}}],\"label\":\"2023Q1\",\"method\":\"animate\"}],\"x\":0.1,\"xanchor\":\"left\",\"y\":0,\"yanchor\":\"top\"}],\"template\":{\"data\":{\"bar\":[{\"error_x\":{\"color\":\"#2a3f5f\"},\"error_y\":{\"color\":\"#2a3f5f\"},\"marker\":{\"line\":{\"color\":\"#E5ECF6\",\"width\":0.5},\"pattern\":{\"fillmode\":\"overlay\",\"size\":10,\"solidity\":0.2}},\"type\":\"bar\"}],\"barpolar\":[{\"marker\":{\"line\":{\"color\":\"#E5ECF6\",\"width\":0.5},\"pattern\":{\"fillmode\":\"overlay\",\"size\":10,\"solidity\":0.2}},\"type\":\"barpolar\"}],\"carpet\":[{\"aaxis\":{\"endlinecolor\":\"#2a3f5f\",\"gridcolor\":\"white\",\"linecolor\":\"white\",\"minorgridcolor\":\"white\",\"startlinecolor\":\"#2a3f5f\"},\"baxis\":{\"endlinecolor\":\"#2a3f5f\",\"gridcolor\":\"white\",\"linecolor\":\"white\",\"minorgridcolor\":\"white\",\"startlinecolor\":\"#2a3f5f\"},\"type\":\"carpet\"}],\"choropleth\":[{\"colorbar\":{\"outlinewidth\":0,\"ticks\":\"\"},\"type\":\"choropleth\"}],\"contour\":[{\"colorbar\":{\"outlinewidth\":0,\"ticks\":\"\"},\"colorscale\":[[0.0,\"#0d0887\"],[0.1111111111111111,\"#46039f\"],[0.2222222222222222,\"#7201a8\"],[0.3333333333333333,\"#9c179e\"],[0.4444444444444444,\"#bd3786\"],[0.5555555555555556,\"#d8576b\"],[0.6666666666666666,\"#ed7953\"],[0.7777777777777778,\"#fb9f3a\"],[0.8888888888888888,\"#fdca26\"],[1.0,\"#f0f921\"]],\"type\":\"contour\"}],\"contourcarpet\":[{\"colorbar\":{\"outlinewidth\":0,\"ticks\":\"\"},\"type\":\"contourcarpet\"}],\"heatmap\":[{\"colorbar\":{\"outlinewidth\":0,\"ticks\":\"\"},\"colorscale\":[[0.0,\"#0d0887\"],[0.1111111111111111,\"#46039f\"],[0.2222222222222222,\"#7201a8\"],[0.3333333333333333,\"#9c179e\"],[0.4444444444444444,\"#bd3786\"],[0.5555555555555556,\"#d8576b\"],[0.6666666666666666,\"#ed7953\"],[0.7777777777777778,\"#fb9f3a\"],[0.8888888888888888,\"#fdca26\"],[1.0,\"#f0f921\"]],\"type\":\"heatmap\"}],\"heatmapgl\":[{\"colorbar\":{\"outlinewidth\":0,\"ticks\":\"\"},\"colorscale\":[[0.0,\"#0d0887\"],[0.1111111111111111,\"#46039f\"],[0.2222222222222222,\"#7201a8\"],[0.3333333333333333,\"#9c179e\"],[0.4444444444444444,\"#bd3786\"],[0.5555555555555556,\"#d8576b\"],[0.6666666666666666,\"#ed7953\"],[0.7777777777777778,\"#fb9f3a\"],[0.8888888888888888,\"#fdca26\"],[1.0,\"#f0f921\"]],\"type\":\"heatmapgl\"}],\"histogram\":[{\"marker\":{\"pattern\":{\"fillmode\":\"overlay\",\"size\":10,\"solidity\":0.2}},\"type\":\"histogram\"}],\"histogram2d\":[{\"colorbar\":{\"outlinewidth\":0,\"ticks\":\"\"},\"colorscale\":[[0.0,\"#0d0887\"],[0.1111111111111111,\"#46039f\"],[0.2222222222222222,\"#7201a8\"],[0.3333333333333333,\"#9c179e\"],[0.4444444444444444,\"#bd3786\"],[0.5555555555555556,\"#d8576b\"],[0.6666666666666666,\"#ed7953\"],[0.7777777777777778,\"#fb9f3a\"],[0.8888888888888888,\"#fdca26\"],[1.0,\"#f0f921\"]],\"type\":\"histogram2d\"}],\"histogram2dcontour\":[{\"colorbar\":{\"outlinewidth\":0,\"ticks\":\"\"},\"colorscale\":[[0.0,\"#0d0887\"],[0.1111111111111111,\"#46039f\"],[0.2222222222222222,\"#7201a8\"],[0.3333333333333333,\"#9c179e\"],[0.4444444444444444,\"#bd3786\"],[0.5555555555555556,\"#d8576b\"],[0.6666666666666666,\"#ed7953\"],[0.7777777777777778,\"#fb9f3a\"],[0.8888888888888888,\"#fdca26\"],[1.0,\"#f0f921\"]],\"type\":\"histogram2dcontour\"}],\"mesh3d\":[{\"colorbar\":{\"outlinewidth\":0,\"ticks\":\"\"},\"type\":\"mesh3d\"}],\"parcoords\":[{\"line\":{\"colorbar\":{\"outlinewidth\":0,\"ticks\":\"\"}},\"type\":\"parcoords\"}],\"pie\":[{\"automargin\":true,\"type\":\"pie\"}],\"scatter\":[{\"marker\":{\"colorbar\":{\"outlinewidth\":0,\"ticks\":\"\"}},\"type\":\"scatter\"}],\"scatter3d\":[{\"line\":{\"colorbar\":{\"outlinewidth\":0,\"ticks\":\"\"}},\"marker\":{\"colorbar\":{\"outlinewidth\":0,\"ticks\":\"\"}},\"type\":\"scatter3d\"}],\"scattercarpet\":[{\"marker\":{\"colorbar\":{\"outlinewidth\":0,\"ticks\":\"\"}},\"type\":\"scattercarpet\"}],\"scattergeo\":[{\"marker\":{\"colorbar\":{\"outlinewidth\":0,\"ticks\":\"\"}},\"type\":\"scattergeo\"}],\"scattergl\":[{\"marker\":{\"colorbar\":{\"outlinewidth\":0,\"ticks\":\"\"}},\"type\":\"scattergl\"}],\"scattermapbox\":[{\"marker\":{\"colorbar\":{\"outlinewidth\":0,\"ticks\":\"\"}},\"type\":\"scattermapbox\"}],\"scatterpolar\":[{\"marker\":{\"colorbar\":{\"outlinewidth\":0,\"ticks\":\"\"}},\"type\":\"scatterpolar\"}],\"scatterpolargl\":[{\"marker\":{\"colorbar\":{\"outlinewidth\":0,\"ticks\":\"\"}},\"type\":\"scatterpolargl\"}],\"scatterternary\":[{\"marker\":{\"colorbar\":{\"outlinewidth\":0,\"ticks\":\"\"}},\"type\":\"scatterternary\"}],\"surface\":[{\"colorbar\":{\"outlinewidth\":0,\"ticks\":\"\"},\"colorscale\":[[0.0,\"#0d0887\"],[0.1111111111111111,\"#46039f\"],[0.2222222222222222,\"#7201a8\"],[0.3333333333333333,\"#9c179e\"],[0.4444444444444444,\"#bd3786\"],[0.5555555555555556,\"#d8576b\"],[0.6666666666666666,\"#ed7953\"],[0.7777777777777778,\"#fb9f3a\"],[0.8888888888888888,\"#fdca26\"],[1.0,\"#f0f921\"]],\"type\":\"surface\"}],\"table\":[{\"cells\":{\"fill\":{\"color\":\"#EBF0F8\"},\"line\":{\"color\":\"white\"}},\"header\":{\"fill\":{\"color\":\"#C8D4E3\"},\"line\":{\"color\":\"white\"}},\"type\":\"table\"}]},\"layout\":{\"annotationdefaults\":{\"arrowcolor\":\"#2a3f5f\",\"arrowhead\":0,\"arrowwidth\":1},\"autotypenumbers\":\"strict\",\"coloraxis\":{\"colorbar\":{\"outlinewidth\":0,\"ticks\":\"\"}},\"colorscale\":{\"diverging\":[[0,\"#8e0152\"],[0.1,\"#c51b7d\"],[0.2,\"#de77ae\"],[0.3,\"#f1b6da\"],[0.4,\"#fde0ef\"],[0.5,\"#f7f7f7\"],[0.6,\"#e6f5d0\"],[0.7,\"#b8e186\"],[0.8,\"#7fbc41\"],[0.9,\"#4d9221\"],[1,\"#276419\"]],\"sequential\":[[0.0,\"#0d0887\"],[0.1111111111111111,\"#46039f\"],[0.2222222222222222,\"#7201a8\"],[0.3333333333333333,\"#9c179e\"],[0.4444444444444444,\"#bd3786\"],[0.5555555555555556,\"#d8576b\"],[0.6666666666666666,\"#ed7953\"],[0.7777777777777778,\"#fb9f3a\"],[0.8888888888888888,\"#fdca26\"],[1.0,\"#f0f921\"]],\"sequentialminus\":[[0.0,\"#0d0887\"],[0.1111111111111111,\"#46039f\"],[0.2222222222222222,\"#7201a8\"],[0.3333333333333333,\"#9c179e\"],[0.4444444444444444,\"#bd3786\"],[0.5555555555555556,\"#d8576b\"],[0.6666666666666666,\"#ed7953\"],[0.7777777777777778,\"#fb9f3a\"],[0.8888888888888888,\"#fdca26\"],[1.0,\"#f0f921\"]]},\"colorway\":[\"#636efa\",\"#EF553B\",\"#00cc96\",\"#ab63fa\",\"#FFA15A\",\"#19d3f3\",\"#FF6692\",\"#B6E880\",\"#FF97FF\",\"#FECB52\"],\"font\":{\"color\":\"#2a3f5f\"},\"geo\":{\"bgcolor\":\"white\",\"lakecolor\":\"white\",\"landcolor\":\"#E5ECF6\",\"showlakes\":true,\"showland\":true,\"subunitcolor\":\"white\"},\"hoverlabel\":{\"align\":\"left\"},\"hovermode\":\"closest\",\"mapbox\":{\"style\":\"light\"},\"paper_bgcolor\":\"white\",\"plot_bgcolor\":\"#E5ECF6\",\"polar\":{\"angularaxis\":{\"gridcolor\":\"white\",\"linecolor\":\"white\",\"ticks\":\"\"},\"bgcolor\":\"#E5ECF6\",\"radialaxis\":{\"gridcolor\":\"white\",\"linecolor\":\"white\",\"ticks\":\"\"}},\"scene\":{\"xaxis\":{\"backgroundcolor\":\"#E5ECF6\",\"gridcolor\":\"white\",\"gridwidth\":2,\"linecolor\":\"white\",\"showbackground\":true,\"ticks\":\"\",\"zerolinecolor\":\"white\"},\"yaxis\":{\"backgroundcolor\":\"#E5ECF6\",\"gridcolor\":\"white\",\"gridwidth\":2,\"linecolor\":\"white\",\"showbackground\":true,\"ticks\":\"\",\"zerolinecolor\":\"white\"},\"zaxis\":{\"backgroundcolor\":\"#E5ECF6\",\"gridcolor\":\"white\",\"gridwidth\":2,\"linecolor\":\"white\",\"showbackground\":true,\"ticks\":\"\",\"zerolinecolor\":\"white\"}},\"shapedefaults\":{\"line\":{\"color\":\"#2a3f5f\"}},\"ternary\":{\"aaxis\":{\"gridcolor\":\"white\",\"linecolor\":\"white\",\"ticks\":\"\"},\"baxis\":{\"gridcolor\":\"white\",\"linecolor\":\"white\",\"ticks\":\"\"},\"bgcolor\":\"#E5ECF6\",\"caxis\":{\"gridcolor\":\"white\",\"linecolor\":\"white\",\"ticks\":\"\"}},\"title\":{\"x\":0.05},\"xaxis\":{\"automargin\":true,\"gridcolor\":\"white\",\"linecolor\":\"white\",\"ticks\":\"\",\"title\":{\"standoff\":15},\"zerolinecolor\":\"white\",\"zerolinewidth\":2},\"yaxis\":{\"automargin\":true,\"gridcolor\":\"white\",\"linecolor\":\"white\",\"ticks\":\"\",\"title\":{\"standoff\":15},\"zerolinecolor\":\"white\",\"zerolinewidth\":2}}},\"title\":{\"text\":\"Nasdaq 100\",\"x\":0.5},\"updatemenus\":[{\"buttons\":[{\"args\":[null,{\"frame\":{\"duration\":2750,\"redraw\":false},\"fromcurrent\":true,\"mode\":\"immediate\",\"transition\":{\"duration\":1500,\"easing\":\"linear\"}}],\"label\":\"&#9654;\",\"method\":\"animate\"},{\"args\":[[null],{\"frame\":{\"duration\":0,\"redraw\":false},\"fromcurrent\":true,\"mode\":\"immediate\",\"transition\":{\"duration\":0,\"easing\":\"linear\"}}],\"label\":\"&#9724;\",\"method\":\"animate\"}],\"direction\":\"left\",\"pad\":{\"r\":10,\"t\":70},\"showactive\":false,\"type\":\"buttons\",\"x\":0.1,\"xanchor\":\"right\",\"y\":0,\"yanchor\":\"top\"}],\"width\":700,\"xaxis\":{\"anchor\":\"y\",\"domain\":[0.0,1.0],\"range\":[0,0.09],\"title\":{\"text\":\"Std dev\"}},\"yaxis\":{\"anchor\":\"x\",\"domain\":[0.0,1.0],\"range\":[-60,110],\"title\":{\"text\":\"Pct Returns\"}}},                        {\"responsive\": true}                    ).then(function(){\n",
              "                            Plotly.addFrames('34d2acbf-4d6f-492d-802b-44943e9a4d57', [{\"data\":[{\"hovertemplate\":\"<b>%{hovertext}</b><br><br>Tracking=steelblue<br>quarter=2022Q2<br>Std dev=%{x}<br>Pct Returns=%{y}<br>index=%{text}<extra></extra>\",\"hovertext\":[\"AAPL\",\"ABNB\",\"ADBE\",\"ADI\",\"ADP\",\"ADSK\",\"AEP\",\"AMAT\",\"AMD\",\"AMGN\",\"AMZN\",\"ANSS\",\"ASML\",\"ATVI\",\"AVGO\",\"AZN\",\"BIIB\",\"BKNG\",\"BKR\",\"BMRN\",\"CDNS\",\"CHTR\",\"CMCSA\",\"COST\",\"CPRT\",\"CRWD\",\"CSCO\",\"CSGP\",\"CSX\",\"CTAS\",\"CTSH\",\"DDOG\",\"DLTR\",\"DXCM\",\"EA\",\"EBAY\",\"ENPH\",\"EXC\",\"FANG\",\"FAST\",\"FISV\",\"FTNT\",\"GFS\",\"GILD\",\"GOOG\",\"GOOGL\",\"HON\",\"IDXX\",\"ILMN\",\"INTC\",\"INTU\",\"ISRG\",\"JD\",\"KDP\",\"KHC\",\"KLAC\",\"LRCX\",\"LULU\",\"MAR\",\"MCHP\",\"MDLZ\",\"MELI\",\"MNST\",\"MRNA\",\"MRVL\",\"MSFT\",\"MU\",\"NFLX\",\"NXPI\",\"ODFL\",\"ORLY\",\"PANW\",\"PAYX\",\"PCAR\",\"PDD\",\"PEP\",\"PYPL\",\"QCOM\",\"REGN\",\"RIVN\",\"ROST\",\"SBUX\",\"SGEN\",\"SIRI\",\"SNPS\",\"TEAM\",\"TMUS\",\"TXN\",\"VRSK\",\"VRTX\",\"WBA\",\"WBD\",\"WDAY\",\"XEL\",\"ZM\",\"ZS\"],\"legendgroup\":\"steelblue\",\"marker\":{\"color\":\"#636efa\",\"symbol\":\"circle\"},\"mode\":\"markers+text\",\"name\":\"steelblue\",\"orientation\":\"v\",\"showlegend\":true,\"text\":[\"AAPL\",\"ABNB\",\"ADBE\",\"ADI\",\"ADP\",\"ADSK\",\"AEP\",\"AMAT\",\"AMD\",\"AMGN\",\"AMZN\",\"ANSS\",\"ASML\",\"ATVI\",\"AVGO\",\"AZN\",\"BIIB\",\"BKNG\",\"BKR\",\"BMRN\",\"CDNS\",\"CHTR\",\"CMCSA\",\"COST\",\"CPRT\",\"CRWD\",\"CSCO\",\"CSGP\",\"CSX\",\"CTAS\",\"CTSH\",\"DDOG\",\"DLTR\",\"DXCM\",\"EA\",\"EBAY\",\"ENPH\",\"EXC\",\"FANG\",\"FAST\",\"FISV\",\"FTNT\",\"GFS\",\"GILD\",\"GOOG\",\"GOOGL\",\"HON\",\"IDXX\",\"ILMN\",\"INTC\",\"INTU\",\"ISRG\",\"JD\",\"KDP\",\"KHC\",\"KLAC\",\"LRCX\",\"LULU\",\"MAR\",\"MCHP\",\"MDLZ\",\"MELI\",\"MNST\",\"MRNA\",\"MRVL\",\"MSFT\",\"MU\",\"NFLX\",\"NXPI\",\"ODFL\",\"ORLY\",\"PANW\",\"PAYX\",\"PCAR\",\"PDD\",\"PEP\",\"PYPL\",\"QCOM\",\"REGN\",\"RIVN\",\"ROST\",\"SBUX\",\"SGEN\",\"SIRI\",\"SNPS\",\"TEAM\",\"TMUS\",\"TXN\",\"VRSK\",\"VRTX\",\"WBA\",\"WBD\",\"WDAY\",\"XEL\",\"ZM\",\"ZS\"],\"type\":\"scatter\",\"x\":[0.025789519517375393,0.04456081346690636,0.02772840553490518,0.022862805675922353,0.019553117297859496,0.03682551343516094,0.014336943780504324,0.03322100895019325,0.04226524178935623,0.011630327511566575,0.036616198905550526,0.030313620195200806,0.03266516515531023,0.00909378097936573,0.02590230573156602,0.018593139225013634,0.023120991906641988,0.03089513454557952,0.029346512771396303,0.02683579297473697,0.02999860452074863,0.026095590510011146,0.01896963109254141,0.027761807231892192,0.023982779555191083,0.050544583530281094,0.024895154960336265,0.02695205741960074,0.017273930956818954,0.02046026520277844,0.025741717437719136,0.055192126933561646,0.03807119509688847,0.037805662452285,0.020349921837304205,0.028761370818495394,0.05379926871347974,0.017147844675131193,0.03644414554322757,0.02075761526404277,0.022970031025133654,0.03379804236066423,0.03504638725313697,0.014195017548002592,0.02564160247556486,0.025946532916818237,0.016217115906686057,0.029921583558387716,0.03830831531388092,0.02306933513180239,0.03653646165198595,0.03377818184807154,0.041143531997377435,0.01493017818234111,0.020479606791653202,0.033487374769956356,0.034234058184981465,0.03570450062469598,0.02965571921212598,0.030901098110315356,0.015789410347599852,0.05841367877372546,0.018886192372320167,0.04381241257869589,0.041737663457488826,0.024020715000084666,0.030195518890061317,0.05853174687485493,0.028376753211184796,0.03007008672624416,0.02712652005512245,0.033535494764713014,0.020153160429300307,0.01838013690616939,0.0639096433610367,0.015160346492651765,0.039202256146320995,0.03199620575504325,0.02093959349293602,0.0633225827356933,0.04021656092182972,0.028113018716039787,0.03625177064265044,0.017764776913208137,0.031143228359945298,0.054105007727513955,0.02089659019061344,0.01879084754479687,0.018504089328251948,0.024833340377956623,0.021039805920369248,0.04064875017910945,0.03361527802209335,0.013375968377676606,0.04454694728872839,0.05452358636403204],\"xaxis\":\"x\",\"y\":[-21.44978398993553,-48.52949785564077,-20.107379993432783,-11.242042485573965,-9.619842376756468,-19.282758104996432,-4.741515455297002,-28.418123033000693,-29.318791482495904,0.8780807121371933,-35.06358481912793,-24.392555635352682,-28.204928836164285,-3.0898205275954633,-21.87349248199925,-1.1076173294422735,-3.1853746259188047,-26.13532506440083,-20.34388609233054,4.541448537869354,-9.418586997297398,-16.584175172900164,-17.271568025368435,-16.594033758446017,-13.542327022389006,-26.0215084295348,-22.867410394044988,-8.469697200890744,-17.90393466950696,-11.649763930116505,-24.730072481411227,-37.954398785817894,-2.2454912731169276,-43.91707752327039,-2.7270463420196642,-27.4672880403419,-5.17266206617893,-4.230026849483004,-10.384060074229707,-15.881976993301594,-13.612969156103313,-16.551133888094714,-33.58577702033716,4.880788912746188,-22.26545847131223,-22.252864292633248,-10.880163427841467,-36.62727496401734,-49.33772912818599,-21.626031691454756,-20.242549989954128,-34.30974631776974,11.423746831914224,-6.962723301424339,-3.5150882943452135,-11.137446251500991,-18.625078128195184,-25.80829971145175,-21.54522124960981,-21.152654747252686,-1.7092571019084803,-47.973663534359986,12.84235572295129,-19.10639953229076,-38.69522125689042,-16.802998513829987,-27.335857037593463,-53.17696346544108,-18.263924416152967,-7.873836391803356,-5.344378182219888,-19.173309287214245,-17.459643702057736,-2.9930480141746205,44.90034472697948,-1.143254480112052,-40.13885537500564,-12.638643647388612,-14.92451529963515,-44.57364226467839,-22.20043878353718,-15.916460241417022,18.8394137730838,-6.6506305398500345,-9.337870247002153,-38.708096844976495,2.8907914791165448,-15.040235871578348,-19.00685117086442,5.8763911354889915,-12.573640728997463,-46.36291034866973,-41.33568439130942,-2.036366885293557,-8.515502209983932,-39.27541918286494],\"yaxis\":\"y\"},{\"hovertemplate\":\"<b>%{hovertext}</b><br><br>Tracking=magenta<br>quarter=2022Q2<br>Std dev=%{x}<br>Pct Returns=%{y}<br>index=%{text}<extra></extra>\",\"hovertext\":[\"ALGN\",\"LCID\",\"META\",\"NVDA\",\"TSLA\"],\"legendgroup\":\"magenta\",\"marker\":{\"color\":\"#EF553B\",\"symbol\":\"circle\"},\"mode\":\"markers+text\",\"name\":\"magenta\",\"orientation\":\"v\",\"showlegend\":true,\"text\":[\"ALGN\",\"LCID\",\"META\",\"NVDA\",\"TSLA\"],\"type\":\"scatter\",\"x\":[0.03945988911247722,0.057245304412514374,0.04210088793484072,0.04384096463930173,0.047512200188423045],\"xaxis\":\"x\",\"y\":[-46.98371536761476,-30.10183144320646,-28.285525629132373,-43.23822745249613,-37.91017940567833],\"yaxis\":\"y\"}],\"name\":\"2022Q2\"},{\"data\":[{\"hovertemplate\":\"<b>%{hovertext}</b><br><br>Tracking=steelblue<br>quarter=2022Q3<br>Std dev=%{x}<br>Pct Returns=%{y}<br>index=%{text}<extra></extra>\",\"hovertext\":[\"AAPL\",\"ABNB\",\"ADBE\",\"ADI\",\"ADP\",\"ADSK\",\"AEP\",\"AMAT\",\"AMD\",\"AMGN\",\"AMZN\",\"ANSS\",\"ASML\",\"ATVI\",\"AVGO\",\"AZN\",\"BIIB\",\"BKNG\",\"BKR\",\"BMRN\",\"CDNS\",\"CHTR\",\"CMCSA\",\"COST\",\"CPRT\",\"CRWD\",\"CSCO\",\"CSGP\",\"CSX\",\"CTAS\",\"CTSH\",\"DDOG\",\"DLTR\",\"DXCM\",\"EA\",\"EBAY\",\"ENPH\",\"EXC\",\"FANG\",\"FAST\",\"FISV\",\"FTNT\",\"GFS\",\"GILD\",\"GOOG\",\"GOOGL\",\"HON\",\"IDXX\",\"ILMN\",\"INTC\",\"INTU\",\"ISRG\",\"JD\",\"KDP\",\"KHC\",\"KLAC\",\"LRCX\",\"LULU\",\"MAR\",\"MCHP\",\"MDLZ\",\"MELI\",\"MNST\",\"MRNA\",\"MRVL\",\"MSFT\",\"MU\",\"NFLX\",\"NXPI\",\"ODFL\",\"ORLY\",\"PANW\",\"PAYX\",\"PCAR\",\"PDD\",\"PEP\",\"PYPL\",\"QCOM\",\"REGN\",\"RIVN\",\"ROST\",\"SBUX\",\"SGEN\",\"SIRI\",\"SNPS\",\"TEAM\",\"TMUS\",\"TXN\",\"VRSK\",\"VRTX\",\"WBA\",\"WBD\",\"WDAY\",\"XEL\",\"ZM\",\"ZS\"],\"legendgroup\":\"steelblue\",\"marker\":{\"color\":\"#636efa\",\"symbol\":\"circle\"},\"mode\":\"markers+text\",\"name\":\"steelblue\",\"orientation\":\"v\",\"showlegend\":true,\"text\":[\"AAPL\",\"ABNB\",\"ADBE\",\"ADI\",\"ADP\",\"ADSK\",\"AEP\",\"AMAT\",\"AMD\",\"AMGN\",\"AMZN\",\"ANSS\",\"ASML\",\"ATVI\",\"AVGO\",\"AZN\",\"BIIB\",\"BKNG\",\"BKR\",\"BMRN\",\"CDNS\",\"CHTR\",\"CMCSA\",\"COST\",\"CPRT\",\"CRWD\",\"CSCO\",\"CSGP\",\"CSX\",\"CTAS\",\"CTSH\",\"DDOG\",\"DLTR\",\"DXCM\",\"EA\",\"EBAY\",\"ENPH\",\"EXC\",\"FANG\",\"FAST\",\"FISV\",\"FTNT\",\"GFS\",\"GILD\",\"GOOG\",\"GOOGL\",\"HON\",\"IDXX\",\"ILMN\",\"INTC\",\"INTU\",\"ISRG\",\"JD\",\"KDP\",\"KHC\",\"KLAC\",\"LRCX\",\"LULU\",\"MAR\",\"MCHP\",\"MDLZ\",\"MELI\",\"MNST\",\"MRNA\",\"MRVL\",\"MSFT\",\"MU\",\"NFLX\",\"NXPI\",\"ODFL\",\"ORLY\",\"PANW\",\"PAYX\",\"PCAR\",\"PDD\",\"PEP\",\"PYPL\",\"QCOM\",\"REGN\",\"RIVN\",\"ROST\",\"SBUX\",\"SGEN\",\"SIRI\",\"SNPS\",\"TEAM\",\"TMUS\",\"TXN\",\"VRSK\",\"VRTX\",\"WBA\",\"WBD\",\"WDAY\",\"XEL\",\"ZM\",\"ZS\"],\"type\":\"scatter\",\"x\":[0.019300020859725528,0.030509344725288476,0.030104296297962154,0.01951241622255473,0.01610098333714834,0.02273595054253182,0.01526647884417446,0.027204893023266168,0.03154554894542897,0.01225691234988381,0.027597201518278117,0.021529690503207428,0.027894977630258576,0.0086578581804538,0.019837619021275534,0.015745112467875313,0.05383631665612904,0.024289388108487665,0.028885362264772042,0.016251234573443532,0.017474735779627455,0.02378964767077643,0.02273722588477916,0.01664680640237808,0.017108214373287665,0.030508793983718873,0.01579562323222998,0.02663155177480983,0.017111357774989955,0.014737120196321602,0.016837006726092597,0.038138180205979116,0.023454503866887428,0.028640231897242702,0.014901988294165615,0.021553795121442145,0.0399708272863643,0.016532815909692886,0.03008623847428616,0.017029184816262487,0.015618406890412532,0.032208622007460476,0.0393121694762921,0.01602590514299611,0.023390790615485144,0.02325390860026748,0.014605454266624254,0.0228040580350338,0.03389388077692626,0.022502768472668588,0.023790235105752282,0.02240722841339177,0.027649644359908722,0.01182621257001496,0.014646399761099993,0.025923769580236265,0.028207612273943753,0.02878901325881123,0.02046260414956098,0.02493945628523989,0.01173505024943627,0.042414442543159896,0.013567573341879814,0.03923590831951831,0.03354394751868245,0.01851309154081279,0.025895214809995376,0.033093532039715406,0.025504320177352144,0.023728887957926194,0.01269611213442882,0.026836373560181686,0.01654980667503535,0.014984070353411049,0.04389975316325933,0.010378100392170365,0.03225173237311346,0.023611080485541912,0.02961978083664427,0.036708923235445924,0.022672408174802032,0.018905141822953983,0.017753708607103617,0.012533004166199584,0.017770566868102234,0.04056030228318407,0.014977430887420458,0.019650387838076207,0.01398539587038207,0.017911754713532315,0.016663097027986757,0.03716633592982316,0.02547698725870313,0.015070385560898653,0.03980394916323458,0.044671005507545936],\"xaxis\":\"x\",\"y\":[-0.3872723120157027,14.910837662582633,-25.314805687725052,-2.02881083966783,6.536322095878414,7.442771422972035,-11.047400360938132,-4.787843336878379,-13.99483889622221,-7.497181188006332,3.1398343538356723,-7.698074568143048,-7.443339236681799,-5.38373854316337,-6.300620937963237,-16.25877239792922,26.762566495950985,-7.057207712169306,-27.404645186052477,-0.24712485946266188,9.215445965236189,-36.92298144520895,-26.711650755201394,-2.6092791604773597,-3.421981216052241,-8.055789367590656,-5.258169018136787,13.58447793951602,-8.924102844608782,3.324004956083143,-15.234488105346559,-12.14250757239091,-12.907146360461077,3.7485556679975933,-5.5814588780660905,-13.748910092612427,41.76885320362063,-18.083097333700678,1.7114417632427898,-6.840758914198286,1.0693431023863407,-14.362903986721104,24.581285141091207,0.04747535818580277,-11.854493086711527,-12.035867256993575,-4.172356291683553,-9.106130573072162,-0.130862651165172,-28.370504194203626,-0.08957969617506947,-9.053858859536964,-23.730096187060962,-0.14700460770020654,-12.793984975883562,2.507640060138158,-6.94300633153553,6.143212231687947,0.8717939152996235,9.129838235193946,-12.858379208933687,25.43071656724119,-8.06638920479751,-21.140378521770817,0.9843429773975657,-10.087689064184108,-6.434131691108556,30.83634700428713,1.5238363129277335,-4.584326300496156,10.57570693760564,-3.3212070621966836,-2.9809917733370743,1.3307147671482267,-3.4557202627515466,-2.9711472227872138,20.546215483802442,-8.02723182918598,15.698684392079002,28.054470312972896,18.473228762798495,6.914066624245219,-24.02975883217526,-7.749519652093621,1.4208407606143634,6.622450607481527,-1.9296830909727658,4.887195670157828,-2.558875002548436,0.7726580690908944,-17.600722631620428,-19.298245614035086,6.93361060343765,-11.305649898004988,-33.68478369975786,5.792624240743375],\"yaxis\":\"y\"},{\"hovertemplate\":\"<b>%{hovertext}</b><br><br>Tracking=magenta<br>quarter=2022Q3<br>Std dev=%{x}<br>Pct Returns=%{y}<br>index=%{text}<extra></extra>\",\"hovertext\":[\"ALGN\",\"LCID\",\"META\",\"NVDA\",\"TSLA\"],\"legendgroup\":\"magenta\",\"marker\":{\"color\":\"#EF553B\",\"symbol\":\"circle\"},\"mode\":\"markers+text\",\"name\":\"magenta\",\"orientation\":\"v\",\"showlegend\":true,\"text\":[\"ALGN\",\"LCID\",\"META\",\"NVDA\",\"TSLA\"],\"type\":\"scatter\",\"x\":[0.03270012952785452,0.041435708437893785,0.0317979861696299,0.03479246084112243,0.030928442835287697],\"xaxis\":\"x\",\"y\":[-16.26505875442035,-17.82352784100701,-15.215900949357373,-16.390501567829897,16.714822749939067],\"yaxis\":\"y\"}],\"name\":\"2022Q3\"},{\"data\":[{\"hovertemplate\":\"<b>%{hovertext}</b><br><br>Tracking=steelblue<br>quarter=2022Q4<br>Std dev=%{x}<br>Pct Returns=%{y}<br>index=%{text}<extra></extra>\",\"hovertext\":[\"AAPL\",\"ABNB\",\"ADBE\",\"ADI\",\"ADP\",\"ADSK\",\"AEP\",\"AMAT\",\"AMD\",\"AMGN\",\"AMZN\",\"ANSS\",\"ASML\",\"ATVI\",\"AVGO\",\"AZN\",\"BIIB\",\"BKNG\",\"BKR\",\"BMRN\",\"CDNS\",\"CHTR\",\"CMCSA\",\"COST\",\"CPRT\",\"CRWD\",\"CSCO\",\"CSGP\",\"CSX\",\"CTAS\",\"CTSH\",\"DDOG\",\"DLTR\",\"DXCM\",\"EA\",\"EBAY\",\"ENPH\",\"EXC\",\"FANG\",\"FAST\",\"FISV\",\"FTNT\",\"GFS\",\"GILD\",\"GOOG\",\"GOOGL\",\"HON\",\"IDXX\",\"ILMN\",\"INTC\",\"INTU\",\"ISRG\",\"JD\",\"KDP\",\"KHC\",\"KLAC\",\"LRCX\",\"LULU\",\"MAR\",\"MCHP\",\"MDLZ\",\"MELI\",\"MNST\",\"MRNA\",\"MRVL\",\"MSFT\",\"MU\",\"NFLX\",\"NXPI\",\"ODFL\",\"ORLY\",\"PANW\",\"PAYX\",\"PCAR\",\"PDD\",\"PEP\",\"PYPL\",\"QCOM\",\"REGN\",\"RIVN\",\"ROST\",\"SBUX\",\"SGEN\",\"SIRI\",\"SNPS\",\"TEAM\",\"TMUS\",\"TXN\",\"VRSK\",\"VRTX\",\"WBA\",\"WBD\",\"WDAY\",\"XEL\",\"ZM\",\"ZS\"],\"legendgroup\":\"steelblue\",\"marker\":{\"color\":\"#636efa\",\"symbol\":\"circle\"},\"mode\":\"markers+text\",\"name\":\"steelblue\",\"orientation\":\"v\",\"showlegend\":true,\"text\":[\"AAPL\",\"ABNB\",\"ADBE\",\"ADI\",\"ADP\",\"ADSK\",\"AEP\",\"AMAT\",\"AMD\",\"AMGN\",\"AMZN\",\"ANSS\",\"ASML\",\"ATVI\",\"AVGO\",\"AZN\",\"BIIB\",\"BKNG\",\"BKR\",\"BMRN\",\"CDNS\",\"CHTR\",\"CMCSA\",\"COST\",\"CPRT\",\"CRWD\",\"CSCO\",\"CSGP\",\"CSX\",\"CTAS\",\"CTSH\",\"DDOG\",\"DLTR\",\"DXCM\",\"EA\",\"EBAY\",\"ENPH\",\"EXC\",\"FANG\",\"FAST\",\"FISV\",\"FTNT\",\"GFS\",\"GILD\",\"GOOG\",\"GOOGL\",\"HON\",\"IDXX\",\"ILMN\",\"INTC\",\"INTU\",\"ISRG\",\"JD\",\"KDP\",\"KHC\",\"KLAC\",\"LRCX\",\"LULU\",\"MAR\",\"MCHP\",\"MDLZ\",\"MELI\",\"MNST\",\"MRNA\",\"MRVL\",\"MSFT\",\"MU\",\"NFLX\",\"NXPI\",\"ODFL\",\"ORLY\",\"PANW\",\"PAYX\",\"PCAR\",\"PDD\",\"PEP\",\"PYPL\",\"QCOM\",\"REGN\",\"RIVN\",\"ROST\",\"SBUX\",\"SGEN\",\"SIRI\",\"SNPS\",\"TEAM\",\"TMUS\",\"TXN\",\"VRSK\",\"VRTX\",\"WBA\",\"WBD\",\"WDAY\",\"XEL\",\"ZM\",\"ZS\"],\"type\":\"scatter\",\"x\":[0.02534506414390549,0.03608536551528363,0.025652416426288877,0.024220031719007218,0.018016228384852763,0.03157020993480148,0.017246618104695088,0.033110186671033694,0.0380559814306404,0.015514808827410704,0.031133406069336553,0.026511923088475577,0.036707926522188336,0.010408622333433488,0.023978444767443555,0.015473656975092663,0.017441189213416242,0.021674691536088413,0.025763510342588967,0.021016882985020854,0.02503631994152287,0.03184278643722458,0.017451248481736837,0.01813174258421953,0.019586594015549606,0.03872541674325081,0.015874584959029367,0.019916799132927366,0.017068552294490624,0.017521696134891997,0.025568106431069878,0.04439805547262095,0.020070182966868497,0.03589142889582614,0.013647245310393748,0.023661415169779786,0.03752288794665747,0.018501645643265514,0.021919887311105186,0.019551330160591275,0.01961737656165838,0.03239149138995284,0.030842576242464767,0.01997932905088353,0.026816682859393,0.026395357140137313,0.014373523279929312,0.02875509848451684,0.032564379194512015,0.02703102589546778,0.03146698106206734,0.026674891224851106,0.044767311581942304,0.013256931946987696,0.012106233643003509,0.028063462225274987,0.03781717830174223,0.029800213082157318,0.01955590570256651,0.030571183551117036,0.011138598008706256,0.03821702774897556,0.01723402063151358,0.045145109117648165,0.042444926849329954,0.025609765089180295,0.027894939837523048,0.038186234421547685,0.02995412408330926,0.025579541942303365,0.013682662577186139,0.02779425870865514,0.01738266027535182,0.014069844101398098,0.0539153936557954,0.012013549621918808,0.030212593693151806,0.03026063304736439,0.014458014369237715,0.05339821024643468,0.023544989351689374,0.020437569315706703,0.022899672516060815,0.011844117297836243,0.02679760063169628,0.06063186096615498,0.015512487108624837,0.02095503108046958,0.020865278884050518,0.021026127177700797,0.021785754632030703,0.04022325209257218,0.038546417266087096,0.016818395959807376,0.036336027788238016,0.04432973953575356],\"xaxis\":\"x\",\"y\":[-8.63774662489547,-18.571428571428573,17.981352650719863,13.525951961662017,3.3444143917035403,-2.9045055604671317,8.626647128955414,13.179256060113318,-2.0269308045889463,14.758288323548246,-27.51121678377296,5.974468151185235,26.956403835359012,2.945135050336972,23.428171757621435,22.052211102493164,4.774886953324846,20.03359072895881,33.43656662870135,19.36563034200632,-5.661263482943187,5.879419781988978,15.184456449899258,-4.271437449347371,11.062468841420966,-37.81229553258411,16.45074715413715,7.348244301295705,13.340763169897704,12.961066620545624,-2.6747468245942994,-19.17748182670553,-0.14824670958445893,33.25487572427847,2.086716111744138,11.981437304648733,-7.553817034646573,13.32345512644643,7.053800570577201,0.5124363146687302,5.9211922388379525,-4.062008893275159,8.147696988571067,38.899236323789445,-10.644510946605765,-10.553524023852841,24.450680968704997,21.171438852898707,7.989740982796702,-0.6786584959310163,-1.724941051825828,37.231074299712255,13.34814327392692,-3.2818055083671456,21.119857745741616,19.52218646671535,8.259940288371633,9.681615264764798,6.009892525155199,10.842041668845198,18.963969262161243,-4.087045002550222,13.988996437817095,48.458548878919125,-16.660640105090856,-0.10141783613232798,-2.94001166323822,23.36011260251281,4.501069457659372,8.479059590579743,17.52182938048284,-17.7676991699521,1.3030550100302074,18.0740492008656,30.167599466173773,10.007214852662381,-18.306950021340075,-5.61254911946756,-1.855456117671576,-42.20758652269464,35.38059640266504,16.526644199303174,-6.673930751690961,0.03620064133650371,0.7287518072214919,-40.7905067907684,0.7919410740474243,4.190029999391406,1.351569371640958,-2.9082453382276925,16.557951355553364,-20.669458631403113,8.479741867782616,7.707234357883275,-8.385183084825986,-34.37334752750068],\"yaxis\":\"y\"},{\"hovertemplate\":\"<b>%{hovertext}</b><br><br>Tracking=magenta<br>quarter=2022Q4<br>Std dev=%{x}<br>Pct Returns=%{y}<br>index=%{text}<extra></extra>\",\"hovertext\":[\"ALGN\",\"LCID\",\"META\",\"NVDA\",\"TSLA\"],\"legendgroup\":\"magenta\",\"marker\":{\"color\":\"#EF553B\",\"symbol\":\"circle\"},\"mode\":\"markers+text\",\"name\":\"magenta\",\"orientation\":\"v\",\"showlegend\":true,\"text\":[\"ALGN\",\"LCID\",\"META\",\"NVDA\",\"TSLA\"],\"type\":\"scatter\",\"x\":[0.042252353537316635,0.04738481776828739,0.04551458335001079,0.03927373707672724,0.04258966560999519],\"xaxis\":\"x\",\"y\":[-2.1981105113060027,-51.52590596351698,-13.180870205621014,16.82974993031981,-49.18316691139062],\"yaxis\":\"y\"}],\"name\":\"2022Q4\"},{\"data\":[{\"hovertemplate\":\"<b>%{hovertext}</b><br><br>Tracking=steelblue<br>quarter=2023Q1<br>Std dev=%{x}<br>Pct Returns=%{y}<br>index=%{text}<extra></extra>\",\"hovertext\":[\"AAPL\",\"ABNB\",\"ADBE\",\"ADI\",\"ADP\",\"ADSK\",\"AEP\",\"AMAT\",\"AMD\",\"AMGN\",\"AMZN\",\"ANSS\",\"ASML\",\"ATVI\",\"AVGO\",\"AZN\",\"BIIB\",\"BKNG\",\"BKR\",\"BMRN\",\"CDNS\",\"CHTR\",\"CMCSA\",\"COST\",\"CPRT\",\"CRWD\",\"CSCO\",\"CSGP\",\"CSX\",\"CTAS\",\"CTSH\",\"DDOG\",\"DLTR\",\"DXCM\",\"EA\",\"EBAY\",\"ENPH\",\"EXC\",\"FANG\",\"FAST\",\"FISV\",\"FTNT\",\"GFS\",\"GILD\",\"GOOG\",\"GOOGL\",\"HON\",\"IDXX\",\"ILMN\",\"INTC\",\"INTU\",\"ISRG\",\"JD\",\"KDP\",\"KHC\",\"KLAC\",\"LRCX\",\"LULU\",\"MAR\",\"MCHP\",\"MDLZ\",\"MELI\",\"MNST\",\"MRNA\",\"MRVL\",\"MSFT\",\"MU\",\"NFLX\",\"NXPI\",\"ODFL\",\"ORLY\",\"PANW\",\"PAYX\",\"PCAR\",\"PDD\",\"PEP\",\"PYPL\",\"QCOM\",\"REGN\",\"RIVN\",\"ROST\",\"SBUX\",\"SGEN\",\"SIRI\",\"SNPS\",\"TEAM\",\"TMUS\",\"TXN\",\"VRSK\",\"VRTX\",\"WBA\",\"WBD\",\"WDAY\",\"XEL\",\"ZM\",\"ZS\"],\"legendgroup\":\"steelblue\",\"marker\":{\"color\":\"#636efa\",\"symbol\":\"circle\"},\"mode\":\"markers+text\",\"name\":\"steelblue\",\"orientation\":\"v\",\"showlegend\":true,\"text\":[\"AAPL\",\"ABNB\",\"ADBE\",\"ADI\",\"ADP\",\"ADSK\",\"AEP\",\"AMAT\",\"AMD\",\"AMGN\",\"AMZN\",\"ANSS\",\"ASML\",\"ATVI\",\"AVGO\",\"AZN\",\"BIIB\",\"BKNG\",\"BKR\",\"BMRN\",\"CDNS\",\"CHTR\",\"CMCSA\",\"COST\",\"CPRT\",\"CRWD\",\"CSCO\",\"CSGP\",\"CSX\",\"CTAS\",\"CTSH\",\"DDOG\",\"DLTR\",\"DXCM\",\"EA\",\"EBAY\",\"ENPH\",\"EXC\",\"FANG\",\"FAST\",\"FISV\",\"FTNT\",\"GFS\",\"GILD\",\"GOOG\",\"GOOGL\",\"HON\",\"IDXX\",\"ILMN\",\"INTC\",\"INTU\",\"ISRG\",\"JD\",\"KDP\",\"KHC\",\"KLAC\",\"LRCX\",\"LULU\",\"MAR\",\"MCHP\",\"MDLZ\",\"MELI\",\"MNST\",\"MRNA\",\"MRVL\",\"MSFT\",\"MU\",\"NFLX\",\"NXPI\",\"ODFL\",\"ORLY\",\"PANW\",\"PAYX\",\"PCAR\",\"PDD\",\"PEP\",\"PYPL\",\"QCOM\",\"REGN\",\"RIVN\",\"ROST\",\"SBUX\",\"SGEN\",\"SIRI\",\"SNPS\",\"TEAM\",\"TMUS\",\"TXN\",\"VRSK\",\"VRTX\",\"WBA\",\"WBD\",\"WDAY\",\"XEL\",\"ZM\",\"ZS\"],\"type\":\"scatter\",\"x\":[0.014467421556156686,0.033090764355116514,0.02231630746681832,0.01770646813918124,0.013934258308982117,0.026667610747816057,0.014614875331524295,0.02492502010541506,0.032673415257655866,0.012883193887696482,0.0246035455808255,0.021563540526036033,0.02265387132848418,0.016585013405917972,0.01646087495782002,0.012932860245677934,0.013994813475633448,0.015342141023799058,0.021338523049464216,0.021052431313107897,0.0179415649013565,0.018791167916159392,0.015006431886039458,0.014799208088053599,0.014006291223388255,0.02960614653020647,0.013407547641459837,0.017621329959127376,0.01615357011610557,0.013683542297914379,0.01777210726370865,0.03957610292679476,0.016493287246079145,0.02706582841033716,0.01609627388188971,0.01930198941221272,0.033940420240506704,0.013716340375300673,0.023925549506208246,0.017466928160399,0.020070637695828845,0.023077545332917403,0.027167067502907198,0.014663885480124395,0.02495279801841078,0.02469680581738387,0.013491105177228778,0.022112685802024527,0.038532644329866625,0.025976603344239447,0.022959328268885935,0.019614419455445457,0.03695272399358717,0.009665470437261507,0.012734462282075294,0.023648336480780355,0.02520884380262273,0.026139762829507935,0.01711667435162681,0.021419608371479406,0.011090149594105198,0.02532113854633387,0.012552851250751404,0.025739308410699494,0.03500135087081037,0.019315361663813643,0.02577308274245013,0.02598649344309306,0.021337013809071763,0.022975764378083584,0.013941257600185048,0.023123703241484748,0.016301036879015556,0.01807238228069596,0.03999307691069804,0.009366408080612206,0.020626182902305522,0.022048114436697682,0.019001970553987012,0.0535288650125603,0.012637967283046368,0.013455504768859653,0.0318025730193768,0.02350442932001251,0.01707149845875328,0.036548461823631126,0.012220780283277709,0.015852428073821413,0.014556634407547571,0.015493623899316421,0.017256980900816166,0.03359581353078141,0.02052749962384928,0.014377841840473958,0.030520174477453064,0.036124833722297967],\"xaxis\":\"x\",\"y\":[32.04747283189588,46.52532307429907,14.380262305149502,21.96851846347152,-5.793650342700498,12.427766958766243,-3.200857165629677,27.279703046223837,53.09279486950005,-6.79077205976657,20.356561737155,39.45691780260905,24.13445106158287,11.32934364677728,16.744503807111393,1.568478420080525,1.9807041777391718,30.51849774841986,0.9939165172600292,-3.349570347021048,31.60235350859913,4.692897537750071,6.578577938330383,9.807390006034828,22.37227498344337,32.90084830476447,9.924309215718734,-11.332907764109933,-2.6959605626001033,3.3142740479778277,6.258652157729805,0.7906885187607552,2.345649988430256,1.2638341373800357,-1.745643577086894,5.864871787077005,-16.987090598089598,-2.1001916235185374,5.027121382220073,14.59087021751852,11.678687680808022,36.97444034924449,39.61315133464598,-1.9087797736090855,15.942032930066944,16.39362675054663,-10.344237173995703,23.169373794735712,15.77139876768962,23.711481381114687,14.201015015417848,-3.8248704872748265,-23.854962084661928,0.3662194317033208,-4.173834016328938,6.3496153364566075,28.420004100043123,12.6198271205366,12.643133089861122,21.759570903650133,5.816666303844877,59.55019089048189,6.612709206891605,-14.196325427276344,20.508687612543916,20.636983270278993,19.793530736789442,17.131716117315793,20.972098269965244,20.78389280615997,0.9824923938367791,44.268696205052564,-0.3858078988249609,11.93473337061975,-10.209390013065553,2.2974780229598815,1.8235459599912025,19.738179695565012,14.046388652155423,-10.72664702412917,-8.078736049093498,3.790314246351187,57.319351998219695,-31.106738258938808,20.82395171715795,35.31225151695281,4.171463846248817,14.78192297968682,8.391313065728026,10.156639195297036,-5.7874728000449815,58.28092706340785,21.96042860481783,-2.9807995298910264,10.77106552855243,6.025954480924229],\"yaxis\":\"y\"},{\"hovertemplate\":\"<b>%{hovertext}</b><br><br>Tracking=magenta<br>quarter=2023Q1<br>Std dev=%{x}<br>Pct Returns=%{y}<br>index=%{text}<extra></extra>\",\"hovertext\":[\"ALGN\",\"LCID\",\"META\",\"NVDA\",\"TSLA\"],\"legendgroup\":\"magenta\",\"marker\":{\"color\":\"#EF553B\",\"symbol\":\"circle\"},\"mode\":\"markers+text\",\"name\":\"magenta\",\"orientation\":\"v\",\"showlegend\":true,\"text\":[\"ALGN\",\"LCID\",\"META\",\"NVDA\",\"TSLA\"],\"type\":\"scatter\",\"x\":[0.04365464664348815,0.0735476852447973,0.0369424480262205,0.03440644605903108,0.040175507851242624],\"xaxis\":\"x\",\"y\":[57.40532154225041,30.307939423597396,69.90540810564161,94.0741704189337,91.91490253677725],\"yaxis\":\"y\"}],\"name\":\"2023Q1\"}]);\n",
              "                        }).then(function(){\n",
              "                            \n",
              "var gd = document.getElementById('34d2acbf-4d6f-492d-802b-44943e9a4d57');\n",
              "var x = new MutationObserver(function (mutations, observer) {{\n",
              "        var display = window.getComputedStyle(gd).display;\n",
              "        if (!display || display === 'none') {{\n",
              "            console.log([gd, 'removed!']);\n",
              "            Plotly.purge(gd);\n",
              "            observer.disconnect();\n",
              "        }}\n",
              "}});\n",
              "\n",
              "// Listen for the removal of the full notebook cells\n",
              "var notebookContainer = gd.closest('#notebook-container');\n",
              "if (notebookContainer) {{\n",
              "    x.observe(notebookContainer, {childList: true});\n",
              "}}\n",
              "\n",
              "// Listen for the clearing of the current output cell\n",
              "var outputEl = gd.closest('.output');\n",
              "if (outputEl) {{\n",
              "    x.observe(outputEl, {childList: true});\n",
              "}}\n",
              "\n",
              "                        })                };                });            </script>        </div>"
            ]
          },
          "metadata": {},
          "output_type": "display_data"
        }
      ],
      "source": [
        "# Create animated scatter plot via Plotly Express:\n",
        "\n",
        "fig = px.scatter(concat_df,\n",
        "                x='Std dev',\n",
        "                y='Pct Returns',\n",
        "                color='Tracking',\n",
        "                hover_name='index',\n",
        "                 log_x=False,\n",
        "                 animation_frame='quarter',\n",
        "                 range_x=[0, 0.09],\n",
        "                 range_y=[-60,110],\n",
        "                 text='index'\n",
        "                )\n",
        "\n",
        "fig.update_traces(textposition='top center')\n",
        "\n",
        "fig.update_layout(\n",
        "    showlegend=False,\n",
        "    height=600,\n",
        "    width=700,\n",
        "    title_text='Nasdaq 100',\n",
        "    title_x=0.5)\n",
        "\n",
        "fig.update_traces(marker=dict(size=12,\n",
        "                              line=dict(width=2, color='white')))\n",
        "\n",
        "fig.add_hrect(y0=0, y1=-60,\n",
        "              line_width=0,\n",
        "              fillcolor=\"red\", opacity=0.1,\n",
        "                annotation_text=\"[NEGATIVE RETURN REGION]\",\n",
        "                annotation_position=\"top right\",\n",
        "                annotation_font_size=10,\n",
        "                annotation_font_color=\"black\")\n",
        "\n",
        "fig.layout.updatemenus[0].buttons[0].args[1]['frame']['duration'] = 2750\n",
        "fig.layout.updatemenus[0].buttons[0].args[1]['transition']['duration'] = 1500\n",
        "\n",
        "fig.show()\n",
        "# fig.write_html(\"\") # Save the output"
      ]
    }
  ],
  "metadata": {
    "kernelspec": {
      "display_name": "Python 3",
      "language": "python",
      "name": "python3"
    },
    "language_info": {
      "codemirror_mode": {
        "name": "ipython",
        "version": 3
      },
      "file_extension": ".py",
      "mimetype": "text/x-python",
      "name": "python",
      "nbconvert_exporter": "python",
      "pygments_lexer": "ipython3",
      "version": "3.7.3"
    },
    "colab": {
      "provenance": [],
      "include_colab_link": true
    }
  },
  "nbformat": 4,
  "nbformat_minor": 0
}